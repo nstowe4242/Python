{
 "cells": [
  {
   "cell_type": "code",
   "execution_count": 1,
   "metadata": {},
   "outputs": [],
   "source": [
    "import pandas as pd\n",
    "from matplotlib import pyplot as plt\n",
    "import numpy as np\n",
    "import math\n",
    "import seaborn as sns\n",
    "import sklearn\n",
    "from sklearn import linear_model\n",
    "from sklearn import preprocessing\n",
    "from IPython.display import display\n",
    "import statsmodels.formula.api as smf\n",
    "from statsmodels.sandbox.regression.predstd import wls_prediction_std\n",
    "from statsmodels.iolib.table import (SimpleTable, default_txt_fmt)\n",
    "from sklearn.linear_model import LogisticRegression\n",
    "from sklearn.model_selection import train_test_split\n",
    "%matplotlib inline\n",
    "sns.set_style('white')"
   ]
  },
  {
   "cell_type": "code",
   "execution_count": 2,
   "metadata": {},
   "outputs": [],
   "source": [
    "df = pd.read_csv(r\"C:\\Users\\nstow\\Desktop\\Python\\Table_8_Offenses_Known_to_Law_Enforcement_by_New_York_by_City_2014.csv\")"
   ]
  },
  {
   "cell_type": "code",
   "execution_count": 3,
   "metadata": {},
   "outputs": [],
   "source": [
    "## remove unusable rows\n",
    "\n",
    "df = df.iloc[4:]\n",
    "df = df.iloc[:, :-1]\n",
    "df = df[:-3]\n",
    "df.columns = ['city', 'population', 'violentCrime', 'murder', 'revisedRape', 'legacyRape', 'robbery', 'assault',\\\n",
    "              'propertyCrime', 'burglary', 'theft', 'motorVehicleTheft', 'arson']"
   ]
  },
  {
   "cell_type": "code",
   "execution_count": 4,
   "metadata": {},
   "outputs": [
    {
     "name": "stdout",
     "output_type": "stream",
     "text": [
      "<class 'pandas.core.frame.DataFrame'>\n",
      "RangeIndex: 373 entries, 4 to 376\n",
      "Data columns (total 13 columns):\n",
      "city                 373 non-null object\n",
      "population           369 non-null object\n",
      "violentCrime         369 non-null object\n",
      "murder               369 non-null object\n",
      "revisedRape          227 non-null object\n",
      "legacyRape           142 non-null object\n",
      "robbery              369 non-null object\n",
      "assault              369 non-null object\n",
      "propertyCrime        368 non-null object\n",
      "burglary             369 non-null object\n",
      "theft                368 non-null object\n",
      "motorVehicleTheft    369 non-null object\n",
      "arson                365 non-null object\n",
      "dtypes: object(13)\n",
      "memory usage: 38.0+ KB\n"
     ]
    }
   ],
   "source": [
    "## check for null values and data types\n",
    "df.info()"
   ]
  },
  {
   "cell_type": "code",
   "execution_count": 5,
   "metadata": {},
   "outputs": [],
   "source": [
    "## remove commas so object values can be converted to numeric values\n",
    "df['population'] = df['population'].str.replace(',', '')\n",
    "df['violentCrime'] = df['violentCrime'].str.replace(',', '')\n",
    "df['murder'] = df['murder'].str.replace(',', '')\n",
    "df['revisedRape'] = df['revisedRape'].str.replace(',','')\n",
    "df['legacyRape'] = df['legacyRape'].str.replace(',', '')\n",
    "df['robbery'] = df['robbery'].str.replace(',', '')\n",
    "df['assault'] = df['assault'].str.replace(',', '')\n",
    "df['propertyCrime'] = df['propertyCrime'].str.replace(',', '')\n",
    "df['burglary'] = df['burglary'].str.replace(',', '')\n",
    "df['theft'] = df['theft'].str.replace(',', '')\n",
    "df['motorVehicleTheft'] = df['motorVehicleTheft'].str.replace(',', '')\n",
    "df['arson'] = df['arson'].str.replace(',', '')"
   ]
  },
  {
   "cell_type": "code",
   "execution_count": 6,
   "metadata": {},
   "outputs": [],
   "source": [
    "## covert to numeric values\n",
    "df['population'] = pd.to_numeric(df['population'])\n",
    "df['violentCrime'] = pd.to_numeric(df['violentCrime'])\n",
    "df['murder'] = pd.to_numeric(df['murder'])\n",
    "df['revisedRape'] = pd.to_numeric(df['revisedRape'])\n",
    "df['legacyRape'] = pd.to_numeric(df['legacyRape'])\n",
    "df['robbery'] = pd.to_numeric(df['robbery'])\n",
    "df['assault'] = pd.to_numeric(df['assault'])\n",
    "df['propertyCrime'] = pd.to_numeric(df['propertyCrime'])\n",
    "df['burglary'] = pd.to_numeric(df['burglary'])\n",
    "df['theft'] = pd.to_numeric(df['theft'])\n",
    "df['motorVehicleTheft'] = pd.to_numeric(df['motorVehicleTheft'])\n",
    "df['arson'] = pd.to_numeric(df['arson'])"
   ]
  },
  {
   "cell_type": "code",
   "execution_count": 7,
   "metadata": {},
   "outputs": [],
   "source": [
    "## Fill empty values with 0\n",
    "df = df.fillna(0)"
   ]
  },
  {
   "cell_type": "code",
   "execution_count": 8,
   "metadata": {},
   "outputs": [
    {
     "name": "stdout",
     "output_type": "stream",
     "text": [
      "<class 'pandas.core.frame.DataFrame'>\n",
      "RangeIndex: 373 entries, 4 to 376\n",
      "Data columns (total 13 columns):\n",
      "city                 373 non-null object\n",
      "population           373 non-null float64\n",
      "violentCrime         373 non-null float64\n",
      "murder               373 non-null float64\n",
      "revisedRape          373 non-null float64\n",
      "legacyRape           373 non-null float64\n",
      "robbery              373 non-null float64\n",
      "assault              373 non-null float64\n",
      "propertyCrime        373 non-null float64\n",
      "burglary             373 non-null float64\n",
      "theft                373 non-null float64\n",
      "motorVehicleTheft    373 non-null float64\n",
      "arson                373 non-null float64\n",
      "dtypes: float64(12), object(1)\n",
      "memory usage: 38.0+ KB\n"
     ]
    }
   ],
   "source": [
    "## Check data for accuracy of corrections\n",
    "df.info()"
   ]
  },
  {
   "cell_type": "code",
   "execution_count": 9,
   "metadata": {},
   "outputs": [
    {
     "name": "stdout",
     "output_type": "stream",
     "text": [
      "<class 'pandas.core.frame.DataFrame'>\n",
      "RangeIndex: 373 entries, 4 to 376\n",
      "Data columns (total 12 columns):\n",
      "population           373 non-null float64\n",
      "violentCrime         373 non-null float64\n",
      "murder               373 non-null float64\n",
      "revisedRape          373 non-null float64\n",
      "legacyRape           373 non-null float64\n",
      "robbery              373 non-null float64\n",
      "assault              373 non-null float64\n",
      "propertyCrime        373 non-null float64\n",
      "burglary             373 non-null float64\n",
      "theft                373 non-null float64\n",
      "motorVehicleTheft    373 non-null float64\n",
      "arson                373 non-null float64\n",
      "dtypes: float64(12)\n",
      "memory usage: 35.1 KB\n"
     ]
    }
   ],
   "source": [
    "df = df.drop(columns = 'city')\n",
    "df.info()"
   ]
  },
  {
   "cell_type": "markdown",
   "metadata": {},
   "source": [
    "## Vanilla Logistic Regression"
   ]
  },
  {
   "cell_type": "code",
   "execution_count": 10,
   "metadata": {},
   "outputs": [],
   "source": [
    "## Create dataframe with binary columns for use with Logistic Regression\n",
    "dfLog = pd.DataFrame()\n",
    "dfLog['violentCrime'] = np.where(df['violentCrime'] > 0, 1, 0)\n",
    "dfLog['murder'] = np.where(df['murder'] > 0, 1, 0)\n",
    "dfLog['revisedRape'] = np.where(df['revisedRape'] > 0, 1, 0)\n",
    "dfLog['legacyRape'] = np.where(df['legacyRape'] > 0, 1, 0)\n",
    "dfLog['robbery'] = np.where(df['robbery'] > 0, 1, 0)\n",
    "dfLog['assault'] = np.where(df['assault'] > 0, 1, 0)\n",
    "dfLog['propertyCrime'] = np.where(df['propertyCrime'] > 0, 1, 0)\n",
    "dfLog['burglary'] = np.where(df['burglary'] > 0, 1, 0)\n",
    "dfLog['theft'] = np.where(df['theft'] > 0, 1, 0)\n",
    "dfLog['motorVehicleTheft'] = np.where(df['motorVehicleTheft'] > 0, 1, 0)\n",
    "dfLog['arson'] = np.where(df['arson'] > 0, 1, 0)\n",
    "\n",
    "dfLogXTrain = dfLog\n",
    "dfLogXTrain = dfLogXTrain.drop(columns = 'propertyCrime')"
   ]
  },
  {
   "cell_type": "code",
   "execution_count": 68,
   "metadata": {},
   "outputs": [
    {
     "name": "stderr",
     "output_type": "stream",
     "text": [
      "c:\\users\\nstow\\appdata\\local\\programs\\python\\python37\\lib\\site-packages\\sklearn\\linear_model\\logistic.py:433: FutureWarning: Default solver will be changed to 'lbfgs' in 0.22. Specify a solver to silence this warning.\n",
      "  FutureWarning)\n",
      "c:\\users\\nstow\\appdata\\local\\programs\\python\\python37\\lib\\site-packages\\sklearn\\utils\\validation.py:761: DataConversionWarning: A column-vector y was passed when a 1d array was expected. Please change the shape of y to (n_samples, ), for example using ravel().\n",
      "  y = column_or_1d(y, warn=True)\n"
     ]
    }
   ],
   "source": [
    "## set up Logistic Regression Model\n",
    "logRegModel = LogisticRegression(penalty = 'l2')\n",
    "\n",
    "X_trainLog, X_testLog, y_trainLog, y_testLog = train_test_split(\n",
    "    dfLogXTrain, dfLog['propertyCrime'], test_size=0.4, random_state=0)\n",
    "\n",
    "y_trainLog = y_trainLog.values.reshape(-1,1)\n",
    "y_testLog = y_testLog.values.reshape(-1,1)\n",
    "\n",
    "## fit the model\n",
    "fitLog = logRegModel.fit(X_trainLog, y_trainLog)"
   ]
  },
  {
   "cell_type": "code",
   "execution_count": 69,
   "metadata": {},
   "outputs": [
    {
     "name": "stdout",
     "output_type": "stream",
     "text": [
      "Coefficients of Log Regression with L2 penalty:\n",
      " [[0.71728937 0.07105799 0.22255019 0.         0.32679451 0.60249071\n",
      "  1.52218478 1.98644483 0.6000096  0.15166862]]\n"
     ]
    }
   ],
   "source": [
    "coefLog = logRegModel.coef_\n",
    "print('Coefficients of Log Regression with L2 penalty:\\n', coefLog)"
   ]
  },
  {
   "cell_type": "markdown",
   "metadata": {},
   "source": [
    "#### All features were used except for Legacy Rape which was a column with only zeros, so not any usable data. Essentially, all of the columns were used."
   ]
  },
  {
   "cell_type": "code",
   "execution_count": 70,
   "metadata": {},
   "outputs": [
    {
     "name": "stdout",
     "output_type": "stream",
     "text": [
      "R-Squared Log Train L2 penalty:\n",
      " 0.9820627802690582\n",
      "R-Squared Log Test L2 penalty:\n",
      " 0.9533333333333334\n"
     ]
    }
   ],
   "source": [
    "print('R-Squared Log Train L2 penalty:\\n', logRegModel.score(X_trainLog, y_trainLog))\n",
    "print('R-Squared Log Test L2 penalty:\\n', logRegModel.score(X_testLog, y_testLog))"
   ]
  },
  {
   "cell_type": "markdown",
   "metadata": {},
   "source": [
    "#### The R-Squared value is quite high but it was cross validated with a test dataset and that value is still decently high."
   ]
  },
  {
   "cell_type": "code",
   "execution_count": 65,
   "metadata": {},
   "outputs": [
    {
     "name": "stderr",
     "output_type": "stream",
     "text": [
      "c:\\users\\nstow\\appdata\\local\\programs\\python\\python37\\lib\\site-packages\\sklearn\\linear_model\\logistic.py:433: FutureWarning: Default solver will be changed to 'lbfgs' in 0.22. Specify a solver to silence this warning.\n",
      "  FutureWarning)\n",
      "c:\\users\\nstow\\appdata\\local\\programs\\python\\python37\\lib\\site-packages\\sklearn\\utils\\validation.py:761: DataConversionWarning: A column-vector y was passed when a 1d array was expected. Please change the shape of y to (n_samples, ), for example using ravel().\n",
      "  y = column_or_1d(y, warn=True)\n"
     ]
    }
   ],
   "source": [
    "## set up Logistic Regression Model\n",
    "logRegModel1 = LogisticRegression(penalty = 'l1')\n",
    "\n",
    "X_trainLog1, X_testLog1, y_trainLog1, y_testLog1 = train_test_split(\n",
    "    dfLogXTrain, dfLog['propertyCrime'], test_size=0.4, random_state=0)\n",
    "\n",
    "y_trainLog1 = y_trainLog1.values.reshape(-1,1)\n",
    "y_testLog1 = y_testLog1.values.reshape(-1,1)\n",
    "\n",
    "## fit the model\n",
    "fitLog1 = logRegModel1.fit(X_trainLog1, y_trainLog1)"
   ]
  },
  {
   "cell_type": "code",
   "execution_count": 66,
   "metadata": {},
   "outputs": [
    {
     "name": "stdout",
     "output_type": "stream",
     "text": [
      "Coefficients of Log Regression with L1 penalty:\n",
      " [[0.         0.         0.         0.         0.         0.\n",
      "  2.01388386 3.7229693  0.         0.        ]]\n"
     ]
    }
   ],
   "source": [
    "coefLog1 = logRegModel1.coef_\n",
    "print('Coefficients of Log Regression with L1 penalty:\\n',coefLog1)"
   ]
  },
  {
   "cell_type": "markdown",
   "metadata": {},
   "source": [
    "#### Buglary and Theft were the only features that were used which makes some sense because Property Crime is composed of Burlary, Theft, Motor Vehicle Theft and Arson. "
   ]
  },
  {
   "cell_type": "code",
   "execution_count": 67,
   "metadata": {},
   "outputs": [
    {
     "name": "stdout",
     "output_type": "stream",
     "text": [
      "R-Squared Lasso Train L1 penalty 1.0\n",
      "R-Squared Lasso Test L1 penalty 0.9933333333333333\n"
     ]
    }
   ],
   "source": [
    "print('R-Squared Lasso Train L1 penalty', logRegModel1.score(X_trainLog1, y_trainLog1))\n",
    "print('R-Squared Lasso Test L1 penalty', logRegModel1.score(X_testLog1, y_testLog1))"
   ]
  },
  {
   "cell_type": "markdown",
   "metadata": {},
   "source": [
    "#### The R-Squared value is 100%, meaning that the model perfectly explains variance in the data.  This would most likely indicate severe overfitting, but the test data has a very R-Squared value as well."
   ]
  },
  {
   "cell_type": "markdown",
   "metadata": {},
   "source": [
    "## Ridge Logistic Regression"
   ]
  },
  {
   "cell_type": "code",
   "execution_count": 23,
   "metadata": {},
   "outputs": [],
   "source": [
    "## Create dataframe for use with Ridge Regression\n",
    "dfRidge = df\n",
    "dfRidge = dfRidge.drop(columns = 'propertyCrime')"
   ]
  },
  {
   "cell_type": "code",
   "execution_count": 24,
   "metadata": {},
   "outputs": [],
   "source": [
    "## set up Ridge Regression Model\n",
    "ridgeRegModel = linear_model.Ridge() \n",
    "\n",
    "X_trainRidge, X_testRidge, y_trainRidge, y_testRidge = train_test_split(\n",
    "    dfRidge, df['propertyCrime'], test_size=0.4, random_state=0)\n",
    "\n",
    "y_trainRidge = y_trainRidge.values.reshape(-1,1)\n",
    "y_testRidge = y_testRidge.values.reshape(-1,1)\n",
    "\n",
    "## fit the model\n",
    "fitRidge = ridgeRegModel.fit(X_trainRidge, y_trainRidge)"
   ]
  },
  {
   "cell_type": "code",
   "execution_count": 25,
   "metadata": {},
   "outputs": [
    {
     "name": "stdout",
     "output_type": "stream",
     "text": [
      "[[ 1.88787161e-08  1.11903085e-04  3.69987406e-04 -1.11081387e-04\n",
      "   0.00000000e+00 -7.82548290e-06 -1.44005427e-04  1.00001264e+00\n",
      "   9.99999700e-01  9.99843935e-01  1.30182429e-04]]\n"
     ]
    }
   ],
   "source": [
    "coefRidge = ridgeRegModel.coef_\n",
    "print(coefRidge)"
   ]
  },
  {
   "cell_type": "markdown",
   "metadata": {},
   "source": [
    "#### All features were used except Robbery. This is perhaps not the most optimal selection because we know that Legacy Rape doesn't have any useable data, since all data is zeros. It may make sense to remove Robbery as it is not used in the original dataset to calculate Property Crime."
   ]
  },
  {
   "cell_type": "code",
   "execution_count": 26,
   "metadata": {},
   "outputs": [
    {
     "name": "stdout",
     "output_type": "stream",
     "text": [
      "R-Squared Ridge Train 0.9999999999999922\n",
      "R-Squared Ridge Test 0.9999990981000586\n"
     ]
    }
   ],
   "source": [
    "print('R-Squared Ridge Train', ridgeRegModel.score(X_trainRidge, y_trainRidge))\n",
    "print('R-Squared Ridge Test', ridgeRegModel.score(X_testRidge, y_testRidge))"
   ]
  },
  {
   "cell_type": "markdown",
   "metadata": {},
   "source": [
    "#### The R-Squared value for the trainin set is very high, which may indicate overfitting, however it was cross validated wih a test set.  "
   ]
  },
  {
   "cell_type": "markdown",
   "metadata": {},
   "source": [
    "## Lasso Logistic Regression"
   ]
  },
  {
   "cell_type": "code",
   "execution_count": 27,
   "metadata": {},
   "outputs": [],
   "source": [
    "## Create dataframe for use with Ridge Regression\n",
    "dfLasso = df\n",
    "dfLasso = dfLasso.drop(columns = 'propertyCrime')"
   ]
  },
  {
   "cell_type": "code",
   "execution_count": 28,
   "metadata": {},
   "outputs": [
    {
     "name": "stderr",
     "output_type": "stream",
     "text": [
      "c:\\users\\nstow\\appdata\\local\\programs\\python\\python37\\lib\\site-packages\\sklearn\\linear_model\\coordinate_descent.py:492: ConvergenceWarning: Objective did not converge. You might want to increase the number of iterations. Fitting data with very small alpha may cause precision problems.\n",
      "  ConvergenceWarning)\n"
     ]
    }
   ],
   "source": [
    "## set up Ridge Regression Model\n",
    "lassoRegModel = linear_model.Lasso(0.2) \n",
    "\n",
    "X_trainLasso, X_testLasso, y_trainLasso, y_testLasso = train_test_split(\n",
    "    dfLasso, df['propertyCrime'], test_size=0.4, random_state=0)\n",
    "\n",
    "y_trainLasso = y_trainLasso.values.reshape(-1,1)\n",
    "y_testLasso = y_testLasso.values.reshape(-1,1)\n",
    "\n",
    "## fit the model\n",
    "fitLasso = lassoRegModel.fit(X_trainLasso, y_trainLasso)"
   ]
  },
  {
   "cell_type": "code",
   "execution_count": 29,
   "metadata": {},
   "outputs": [
    {
     "name": "stdout",
     "output_type": "stream",
     "text": [
      "[ 1.29687155e-02  2.57143194e-01  7.88330860e+01  7.60774381e+00\n",
      "  0.00000000e+00 -2.65824256e+00 -5.86285119e-02  3.68938663e+00\n",
      "  6.57614715e-02 -6.49795285e+00 -8.33237738e-02]\n"
     ]
    }
   ],
   "source": [
    "coefLasso = lassoRegModel.coef_\n",
    "print(coefLasso)"
   ]
  },
  {
   "cell_type": "markdown",
   "metadata": {},
   "source": [
    "#### Only Robbery was removed from this feature set as well."
   ]
  },
  {
   "cell_type": "code",
   "execution_count": 30,
   "metadata": {},
   "outputs": [
    {
     "name": "stdout",
     "output_type": "stream",
     "text": [
      "R-Squared Lasso Train 0.9997563994313323\n",
      "R-Squared Lasso Test 0.8834918491034294\n"
     ]
    }
   ],
   "source": [
    "print('R-Squared Lasso Train', lassoRegModel.score(X_trainLasso, y_trainLasso))\n",
    "print('R-Squared Lasso Test', lassoRegModel.score(X_testLasso, y_testLasso))"
   ]
  },
  {
   "cell_type": "markdown",
   "metadata": {},
   "source": [
    "#### The R-Squared value is high for the training set, but there is a noticable drop in the test set R-Squared value which would show a clear case of overfitting"
   ]
  },
  {
   "cell_type": "markdown",
   "metadata": {},
   "source": [
    "## Conclusion"
   ]
  },
  {
   "cell_type": "markdown",
   "metadata": {},
   "source": [
    "#### The best choice seems to be the Vanilla Logistic Regression with L1 penalty (regularization). This model uses less features than the others. This isn't always ideal, but we know that some of the columns (which are used to create the features) in the original dataset are used to create other columns. This can be seen where Violent Crime is made of Murder, Revised Rape, Legacy Rape, Robbery and Assault. This creates a lot of redundant data for the other Regression models which could make them overly complex and not efficient. Additionally, the two columns that are remaining in the L1 penalty Logistic Regression are Burglary and Theft which are used in the original data to make the Property Crime column. The R-Squared value for both the training and test data sets are nearly ideal which alone may indicate that there is overfitting in the model, but since both have good R-Squared values, the model seems to work well."
   ]
  },
  {
   "cell_type": "markdown",
   "metadata": {},
   "source": [
    "#### Some of the limitations of the Regression Models are that the Lasso and Ridge Models only work for continous variables and the Log Model only works for binary data. It would be useful to be able to combine both of these features in one model."
   ]
  }
 ],
 "metadata": {
  "kernelspec": {
   "display_name": "Python 3",
   "language": "python",
   "name": "python3"
  },
  "language_info": {
   "codemirror_mode": {
    "name": "ipython",
    "version": 3
   },
   "file_extension": ".py",
   "mimetype": "text/x-python",
   "name": "python",
   "nbconvert_exporter": "python",
   "pygments_lexer": "ipython3",
   "version": "3.7.2"
  }
 },
 "nbformat": 4,
 "nbformat_minor": 2
}
