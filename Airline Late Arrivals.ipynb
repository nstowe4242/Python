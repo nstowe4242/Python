{
 "cells": [
  {
   "cell_type": "code",
   "execution_count": 1,
   "metadata": {},
   "outputs": [],
   "source": [
    "import pandas as pd\n",
    "import numpy as np\n",
    "from sklearn.ensemble import RandomForestClassifier\n",
    "from sklearn.model_selection import cross_val_score\n",
    "from sklearn import preprocessing\n",
    "from sklearn.preprocessing import LabelEncoder\n",
    "from sklearn.model_selection import train_test_split"
   ]
  },
  {
   "cell_type": "code",
   "execution_count": 2,
   "metadata": {},
   "outputs": [],
   "source": [
    "df = pd.read_csv(r\"C:\\Users\\nstow\\Desktop\\Python\\1992.csv\")"
   ]
  },
  {
   "cell_type": "code",
   "execution_count": 3,
   "metadata": {},
   "outputs": [
    {
     "data": {
      "text/html": [
       "<div>\n",
       "<style scoped>\n",
       "    .dataframe tbody tr th:only-of-type {\n",
       "        vertical-align: middle;\n",
       "    }\n",
       "\n",
       "    .dataframe tbody tr th {\n",
       "        vertical-align: top;\n",
       "    }\n",
       "\n",
       "    .dataframe thead th {\n",
       "        text-align: right;\n",
       "    }\n",
       "</style>\n",
       "<table border=\"1\" class=\"dataframe\">\n",
       "  <thead>\n",
       "    <tr style=\"text-align: right;\">\n",
       "      <th></th>\n",
       "      <th>Year</th>\n",
       "      <th>Month</th>\n",
       "      <th>DayofMonth</th>\n",
       "      <th>DayOfWeek</th>\n",
       "      <th>DepTime</th>\n",
       "      <th>CRSDepTime</th>\n",
       "      <th>ArrTime</th>\n",
       "      <th>CRSArrTime</th>\n",
       "      <th>UniqueCarrier</th>\n",
       "      <th>FlightNum</th>\n",
       "      <th>...</th>\n",
       "      <th>TaxiIn</th>\n",
       "      <th>TaxiOut</th>\n",
       "      <th>Cancelled</th>\n",
       "      <th>CancellationCode</th>\n",
       "      <th>Diverted</th>\n",
       "      <th>CarrierDelay</th>\n",
       "      <th>WeatherDelay</th>\n",
       "      <th>NASDelay</th>\n",
       "      <th>SecurityDelay</th>\n",
       "      <th>LateAircraftDelay</th>\n",
       "    </tr>\n",
       "  </thead>\n",
       "  <tbody>\n",
       "    <tr>\n",
       "      <th>0</th>\n",
       "      <td>1992</td>\n",
       "      <td>1</td>\n",
       "      <td>2</td>\n",
       "      <td>4</td>\n",
       "      <td>748.0</td>\n",
       "      <td>750</td>\n",
       "      <td>851.0</td>\n",
       "      <td>846</td>\n",
       "      <td>US</td>\n",
       "      <td>53</td>\n",
       "      <td>...</td>\n",
       "      <td>NaN</td>\n",
       "      <td>NaN</td>\n",
       "      <td>0</td>\n",
       "      <td>NaN</td>\n",
       "      <td>0</td>\n",
       "      <td>NaN</td>\n",
       "      <td>NaN</td>\n",
       "      <td>NaN</td>\n",
       "      <td>NaN</td>\n",
       "      <td>NaN</td>\n",
       "    </tr>\n",
       "    <tr>\n",
       "      <th>1</th>\n",
       "      <td>1992</td>\n",
       "      <td>1</td>\n",
       "      <td>3</td>\n",
       "      <td>5</td>\n",
       "      <td>750.0</td>\n",
       "      <td>750</td>\n",
       "      <td>843.0</td>\n",
       "      <td>846</td>\n",
       "      <td>US</td>\n",
       "      <td>53</td>\n",
       "      <td>...</td>\n",
       "      <td>NaN</td>\n",
       "      <td>NaN</td>\n",
       "      <td>0</td>\n",
       "      <td>NaN</td>\n",
       "      <td>0</td>\n",
       "      <td>NaN</td>\n",
       "      <td>NaN</td>\n",
       "      <td>NaN</td>\n",
       "      <td>NaN</td>\n",
       "      <td>NaN</td>\n",
       "    </tr>\n",
       "    <tr>\n",
       "      <th>2</th>\n",
       "      <td>1992</td>\n",
       "      <td>1</td>\n",
       "      <td>4</td>\n",
       "      <td>6</td>\n",
       "      <td>747.0</td>\n",
       "      <td>750</td>\n",
       "      <td>843.0</td>\n",
       "      <td>846</td>\n",
       "      <td>US</td>\n",
       "      <td>53</td>\n",
       "      <td>...</td>\n",
       "      <td>NaN</td>\n",
       "      <td>NaN</td>\n",
       "      <td>0</td>\n",
       "      <td>NaN</td>\n",
       "      <td>0</td>\n",
       "      <td>NaN</td>\n",
       "      <td>NaN</td>\n",
       "      <td>NaN</td>\n",
       "      <td>NaN</td>\n",
       "      <td>NaN</td>\n",
       "    </tr>\n",
       "    <tr>\n",
       "      <th>3</th>\n",
       "      <td>1992</td>\n",
       "      <td>1</td>\n",
       "      <td>5</td>\n",
       "      <td>7</td>\n",
       "      <td>750.0</td>\n",
       "      <td>750</td>\n",
       "      <td>850.0</td>\n",
       "      <td>846</td>\n",
       "      <td>US</td>\n",
       "      <td>53</td>\n",
       "      <td>...</td>\n",
       "      <td>NaN</td>\n",
       "      <td>NaN</td>\n",
       "      <td>0</td>\n",
       "      <td>NaN</td>\n",
       "      <td>0</td>\n",
       "      <td>NaN</td>\n",
       "      <td>NaN</td>\n",
       "      <td>NaN</td>\n",
       "      <td>NaN</td>\n",
       "      <td>NaN</td>\n",
       "    </tr>\n",
       "    <tr>\n",
       "      <th>4</th>\n",
       "      <td>1992</td>\n",
       "      <td>1</td>\n",
       "      <td>6</td>\n",
       "      <td>1</td>\n",
       "      <td>752.0</td>\n",
       "      <td>750</td>\n",
       "      <td>838.0</td>\n",
       "      <td>846</td>\n",
       "      <td>US</td>\n",
       "      <td>53</td>\n",
       "      <td>...</td>\n",
       "      <td>NaN</td>\n",
       "      <td>NaN</td>\n",
       "      <td>0</td>\n",
       "      <td>NaN</td>\n",
       "      <td>0</td>\n",
       "      <td>NaN</td>\n",
       "      <td>NaN</td>\n",
       "      <td>NaN</td>\n",
       "      <td>NaN</td>\n",
       "      <td>NaN</td>\n",
       "    </tr>\n",
       "  </tbody>\n",
       "</table>\n",
       "<p>5 rows × 29 columns</p>\n",
       "</div>"
      ],
      "text/plain": [
       "   Year  Month  DayofMonth  DayOfWeek  DepTime  CRSDepTime  ArrTime  \\\n",
       "0  1992      1           2          4    748.0         750    851.0   \n",
       "1  1992      1           3          5    750.0         750    843.0   \n",
       "2  1992      1           4          6    747.0         750    843.0   \n",
       "3  1992      1           5          7    750.0         750    850.0   \n",
       "4  1992      1           6          1    752.0         750    838.0   \n",
       "\n",
       "   CRSArrTime UniqueCarrier  FlightNum  ...  TaxiIn  TaxiOut  Cancelled  \\\n",
       "0         846            US         53  ...     NaN      NaN          0   \n",
       "1         846            US         53  ...     NaN      NaN          0   \n",
       "2         846            US         53  ...     NaN      NaN          0   \n",
       "3         846            US         53  ...     NaN      NaN          0   \n",
       "4         846            US         53  ...     NaN      NaN          0   \n",
       "\n",
       "   CancellationCode  Diverted  CarrierDelay WeatherDelay NASDelay  \\\n",
       "0               NaN         0           NaN          NaN      NaN   \n",
       "1               NaN         0           NaN          NaN      NaN   \n",
       "2               NaN         0           NaN          NaN      NaN   \n",
       "3               NaN         0           NaN          NaN      NaN   \n",
       "4               NaN         0           NaN          NaN      NaN   \n",
       "\n",
       "   SecurityDelay  LateAircraftDelay  \n",
       "0            NaN                NaN  \n",
       "1            NaN                NaN  \n",
       "2            NaN                NaN  \n",
       "3            NaN                NaN  \n",
       "4            NaN                NaN  \n",
       "\n",
       "[5 rows x 29 columns]"
      ]
     },
     "execution_count": 3,
     "metadata": {},
     "output_type": "execute_result"
    }
   ],
   "source": [
    "## Look at the first few rows\n",
    "df.head()"
   ]
  },
  {
   "cell_type": "code",
   "execution_count": 4,
   "metadata": {},
   "outputs": [
    {
     "name": "stdout",
     "output_type": "stream",
     "text": [
      "<class 'pandas.core.frame.DataFrame'>\n",
      "RangeIndex: 5092157 entries, 0 to 5092156\n",
      "Data columns (total 29 columns):\n",
      "Year                 int64\n",
      "Month                int64\n",
      "DayofMonth           int64\n",
      "DayOfWeek            int64\n",
      "DepTime              float64\n",
      "CRSDepTime           int64\n",
      "ArrTime              float64\n",
      "CRSArrTime           int64\n",
      "UniqueCarrier        object\n",
      "FlightNum            int64\n",
      "TailNum              float64\n",
      "ActualElapsedTime    float64\n",
      "CRSElapsedTime       int64\n",
      "AirTime              float64\n",
      "ArrDelay             float64\n",
      "DepDelay             float64\n",
      "Origin               object\n",
      "Dest                 object\n",
      "Distance             float64\n",
      "TaxiIn               float64\n",
      "TaxiOut              float64\n",
      "Cancelled            int64\n",
      "CancellationCode     float64\n",
      "Diverted             int64\n",
      "CarrierDelay         float64\n",
      "WeatherDelay         float64\n",
      "NASDelay             float64\n",
      "SecurityDelay        float64\n",
      "LateAircraftDelay    float64\n",
      "dtypes: float64(16), int64(10), object(3)\n",
      "memory usage: 1.1+ GB\n"
     ]
    }
   ],
   "source": [
    "## examine the data\n",
    "df.info()"
   ]
  },
  {
   "cell_type": "code",
   "execution_count": 5,
   "metadata": {},
   "outputs": [
    {
     "data": {
      "text/plain": [
       "Year                 5092157\n",
       "Month                5092157\n",
       "DayofMonth           5092157\n",
       "DayOfWeek            5092157\n",
       "DepTime              5039321\n",
       "CRSDepTime           5092157\n",
       "ArrTime              5027937\n",
       "CRSArrTime           5092157\n",
       "UniqueCarrier        5092157\n",
       "FlightNum            5092157\n",
       "TailNum                    0\n",
       "ActualElapsedTime    5027937\n",
       "CRSElapsedTime       5092157\n",
       "AirTime                    0\n",
       "ArrDelay             5027937\n",
       "DepDelay             5039321\n",
       "Origin               5092157\n",
       "Dest                 5092157\n",
       "Distance             5084770\n",
       "TaxiIn                     0\n",
       "TaxiOut                    0\n",
       "Cancelled            5092157\n",
       "CancellationCode           0\n",
       "Diverted             5092157\n",
       "CarrierDelay               0\n",
       "WeatherDelay               0\n",
       "NASDelay                   0\n",
       "SecurityDelay              0\n",
       "LateAircraftDelay          0\n",
       "dtype: int64"
      ]
     },
     "execution_count": 5,
     "metadata": {},
     "output_type": "execute_result"
    }
   ],
   "source": [
    "## check for empty columns\n",
    "df.count()"
   ]
  },
  {
   "cell_type": "code",
   "execution_count": 6,
   "metadata": {},
   "outputs": [
    {
     "data": {
      "text/plain": [
       "Year                 5092157\n",
       "Month                5092157\n",
       "DayofMonth           5092157\n",
       "DayOfWeek            5092157\n",
       "DepTime              5039321\n",
       "CRSDepTime           5092157\n",
       "ArrTime              5027937\n",
       "CRSArrTime           5092157\n",
       "UniqueCarrier        5092157\n",
       "FlightNum            5092157\n",
       "ActualElapsedTime    5027937\n",
       "CRSElapsedTime       5092157\n",
       "ArrDelay             5027937\n",
       "DepDelay             5039321\n",
       "Origin               5092157\n",
       "Dest                 5092157\n",
       "Distance             5084770\n",
       "Cancelled            5092157\n",
       "Diverted             5092157\n",
       "dtype: int64"
      ]
     },
     "execution_count": 6,
     "metadata": {},
     "output_type": "execute_result"
    }
   ],
   "source": [
    "## Remove empty columns and double check that all were removed\n",
    "df = df.drop(columns = ['TailNum', 'AirTime', 'TaxiIn', 'TaxiOut', 'CancellationCode', 'CarrierDelay',\\\n",
    "                       'WeatherDelay', 'NASDelay', 'SecurityDelay', 'LateAircraftDelay'])\n",
    "df.count()"
   ]
  },
  {
   "cell_type": "code",
   "execution_count": 7,
   "metadata": {},
   "outputs": [
    {
     "data": {
      "text/plain": [
       "Year                 5020651\n",
       "Month                5020651\n",
       "DayofMonth           5020651\n",
       "DayOfWeek            5020651\n",
       "DepTime              5020651\n",
       "CRSDepTime           5020651\n",
       "ArrTime              5020651\n",
       "CRSArrTime           5020651\n",
       "UniqueCarrier        5020651\n",
       "FlightNum            5020651\n",
       "ActualElapsedTime    5020651\n",
       "CRSElapsedTime       5020651\n",
       "ArrDelay             5020651\n",
       "DepDelay             5020651\n",
       "Origin               5020651\n",
       "Dest                 5020651\n",
       "Distance             5020651\n",
       "Cancelled            5020651\n",
       "Diverted             5020651\n",
       "dtype: int64"
      ]
     },
     "execution_count": 7,
     "metadata": {},
     "output_type": "execute_result"
    }
   ],
   "source": [
    "## Drop rows containing non-number and verifty that all columns have the same number of rows\n",
    "df = df.dropna()\n",
    "df.count()"
   ]
  },
  {
   "cell_type": "code",
   "execution_count": 8,
   "metadata": {},
   "outputs": [],
   "source": [
    "## Create new encoded column for UniqueCarrier that has only numeric values for use with regression\n",
    "y = df['UniqueCarrier']\n",
    "le = preprocessing.LabelEncoder()\n",
    "le.fit(y)\n",
    "\n",
    "list(le.classes_)\n",
    "\n",
    "df['UniqueCarrierEncoded'] = le.transform(y)"
   ]
  },
  {
   "cell_type": "code",
   "execution_count": 9,
   "metadata": {},
   "outputs": [],
   "source": [
    "## Create new encoded column for Origin that has only numeric values for use with regression\n",
    "y = df['Origin']\n",
    "le = preprocessing.LabelEncoder()\n",
    "le.fit(y)\n",
    "\n",
    "list(le.classes_)\n",
    "\n",
    "df['OriginEncoded'] = le.transform(y)"
   ]
  },
  {
   "cell_type": "code",
   "execution_count": 10,
   "metadata": {},
   "outputs": [],
   "source": [
    "## Create new encoded column for Dest that has only numeric values for use with regression\n",
    "y = df['Dest']\n",
    "le = preprocessing.LabelEncoder()\n",
    "le.fit(y)\n",
    "\n",
    "list(le.classes_)\n",
    "\n",
    "df['DestEncoded'] = le.transform(y)"
   ]
  },
  {
   "cell_type": "code",
   "execution_count": 11,
   "metadata": {},
   "outputs": [],
   "source": [
    "## Create new column with only the values of the late flights or 0 for non-late flights\n",
    "df['Late'] = np.where(df['ArrDelay'] > 29, df['ArrDelay'], 0)"
   ]
  },
  {
   "cell_type": "code",
   "execution_count": 12,
   "metadata": {},
   "outputs": [
    {
     "name": "stdout",
     "output_type": "stream",
     "text": [
      "<class 'pandas.core.frame.DataFrame'>\n",
      "Int64Index: 5020651 entries, 0 to 5092156\n",
      "Data columns (total 23 columns):\n",
      "Year                    int64\n",
      "Month                   int64\n",
      "DayofMonth              int64\n",
      "DayOfWeek               int64\n",
      "DepTime                 float64\n",
      "CRSDepTime              int64\n",
      "ArrTime                 float64\n",
      "CRSArrTime              int64\n",
      "UniqueCarrier           object\n",
      "FlightNum               int64\n",
      "ActualElapsedTime       float64\n",
      "CRSElapsedTime          int64\n",
      "ArrDelay                float64\n",
      "DepDelay                float64\n",
      "Origin                  object\n",
      "Dest                    object\n",
      "Distance                float64\n",
      "Cancelled               int64\n",
      "Diverted                int64\n",
      "UniqueCarrierEncoded    int32\n",
      "OriginEncoded           int32\n",
      "DestEncoded             int32\n",
      "Late                    float64\n",
      "dtypes: float64(7), int32(3), int64(10), object(3)\n",
      "memory usage: 861.9+ MB\n"
     ]
    }
   ],
   "source": [
    "## ensure new columns were created and data types are correct\n",
    "df.info()"
   ]
  },
  {
   "cell_type": "code",
   "execution_count": 13,
   "metadata": {},
   "outputs": [
    {
     "data": {
      "text/plain": [
       "Year                    5020651\n",
       "Month                   5020651\n",
       "DayofMonth              5020651\n",
       "DayOfWeek               5020651\n",
       "DepTime                 5020651\n",
       "CRSDepTime              5020651\n",
       "ArrTime                 5020651\n",
       "CRSArrTime              5020651\n",
       "UniqueCarrier           5020651\n",
       "FlightNum               5020651\n",
       "ActualElapsedTime       5020651\n",
       "CRSElapsedTime          5020651\n",
       "ArrDelay                5020651\n",
       "DepDelay                5020651\n",
       "Origin                  5020651\n",
       "Dest                    5020651\n",
       "Distance                5020651\n",
       "Cancelled               5020651\n",
       "Diverted                5020651\n",
       "UniqueCarrierEncoded    5020651\n",
       "OriginEncoded           5020651\n",
       "DestEncoded             5020651\n",
       "Late                    5020651\n",
       "dtype: int64"
      ]
     },
     "execution_count": 13,
     "metadata": {},
     "output_type": "execute_result"
    }
   ],
   "source": [
    "## Ensure all columns have the same number of data points\n",
    "df.count()"
   ]
  },
  {
   "cell_type": "code",
   "execution_count": 14,
   "metadata": {},
   "outputs": [
    {
     "name": "stderr",
     "output_type": "stream",
     "text": [
      "c:\\users\\nstow\\appdata\\local\\programs\\python\\python37\\lib\\site-packages\\sklearn\\ensemble\\forest.py:246: FutureWarning: The default value of n_estimators will change from 10 in version 0.20 to 100 in 0.22.\n",
      "  \"10 in version 0.20 to 100 in 0.22.\", FutureWarning)\n"
     ]
    },
    {
     "name": "stdout",
     "output_type": "stream",
     "text": [
      "done\n"
     ]
    }
   ],
   "source": [
    "## Create Random Forest model\n",
    "rfr = RandomForestClassifier()\n",
    "X = df.drop(columns = ['Late', 'UniqueCarrier', 'Origin', 'Dest'])\n",
    "y = df['Late']\n",
    "\n",
    "## Create Training and Test sets for cross-validation using only 10% of the data since the dataset is over 500K rows\n",
    "X_train, X_test, y_train, y_test = train_test_split(\n",
    "    X, y, test_size=0.1, train_size=0.1, random_state=42)\n",
    "\n",
    "## Fit the model.\n",
    "fit = rfr.fit(X_train, y_train)\n",
    "print('done')"
   ]
  },
  {
   "cell_type": "code",
   "execution_count": 16,
   "metadata": {},
   "outputs": [
    {
     "name": "stdout",
     "output_type": "stream",
     "text": [
      "Test set R-squared value:  0.9998506169519883\n",
      "Train set R=squared value:  0.9604295052841658\n"
     ]
    }
   ],
   "source": [
    "## Print R-squared values for training and test sets to check for overfitting\n",
    "print('Test set R-squared value: ', rfr.score(X_train, y_train))\n",
    "print('Train set R=squared value: ', rfr.score(X_test, y_test))"
   ]
  },
  {
   "cell_type": "code",
   "execution_count": 17,
   "metadata": {},
   "outputs": [
    {
     "name": "stdout",
     "output_type": "stream",
     "text": [
      "Train set cross-validation scores:  [0.95942186 0.95929868 0.96054898]\n",
      "Test set cross-validation scores:  [0.95607295 0.95791178 0.95812752]\n"
     ]
    }
   ],
   "source": [
    "import warnings\n",
    "warnings.filterwarnings(\"ignore\")\n",
    "\n",
    "## Check cross validation scores on training and test sets to ensure that prediction errors will be mininal for rest of data\n",
    "print('Train set cross-validation scores: ', cross_val_score(rfr, X_train, y_train, cv=3))\n",
    "print('Test set cross-validation scores: ', cross_val_score(rfr, X_test, y_test, cv=3))"
   ]
  },
  {
   "cell_type": "code",
   "execution_count": null,
   "metadata": {},
   "outputs": [],
   "source": []
  }
 ],
 "metadata": {
  "kernelspec": {
   "display_name": "Python 3",
   "language": "python",
   "name": "python3"
  },
  "language_info": {
   "codemirror_mode": {
    "name": "ipython",
    "version": 3
   },
   "file_extension": ".py",
   "mimetype": "text/x-python",
   "name": "python",
   "nbconvert_exporter": "python",
   "pygments_lexer": "ipython3",
   "version": "3.7.2"
  }
 },
 "nbformat": 4,
 "nbformat_minor": 2
}
