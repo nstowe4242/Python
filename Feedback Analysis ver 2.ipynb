{
 "cells": [
  {
   "cell_type": "code",
   "execution_count": 3,
   "metadata": {},
   "outputs": [],
   "source": [
    "import numpy as np\n",
    "import pandas as pd\n",
    "import matplotlib.pyplot as plt\n",
    "import seaborn as sns\n",
    "%matplotlib inline"
   ]
  },
  {
   "cell_type": "code",
   "execution_count": 4,
   "metadata": {},
   "outputs": [],
   "source": [
    "reviews = pd.read_csv(r\"C:\\Users\\nstow\\Desktop\\Python\\Yelp.csv\")\n",
    "reviews.columns = ['feedback', 'sentiment']"
   ]
  },
  {
   "cell_type": "code",
   "execution_count": 5,
   "metadata": {
    "scrolled": false
   },
   "outputs": [],
   "source": [
    "positive = ['great', 'loved', 'prompt','delicious', 'favorite', 'comfortable', 'awesome', 'enjoyed', 'perfect', \\\n",
    "            'outstanding', 'selection', 'incredible', 'interesting', 'beautiful', 'cute', 'inexpensive', 'delight',\\\n",
    "            'delightful', 'fine', 'nice', 'good', 'selection', 'fantastic', 'wonderful', 'fantastic', 'glad']\n",
    "for pos in positive:\n",
    "    reviews[str(pos)] = reviews.feedback.str.contains(' ' + str(pos) + ' ')"
   ]
  },
  {
   "cell_type": "code",
   "execution_count": 6,
   "metadata": {
    "scrolled": false
   },
   "outputs": [
    {
     "name": "stdout",
     "output_type": "stream",
     "text": [
      "             sentiment     great     loved  prompt  delicious  favorite  \\\n",
      "sentiment     1.000000  0.190445  0.077693     NaN   0.063372  0.031639   \n",
      "great         0.190445  1.000000 -0.014796     NaN  -0.012069 -0.006025   \n",
      "loved         0.077693 -0.014796  1.000000     NaN  -0.004924 -0.002458   \n",
      "prompt             NaN       NaN       NaN     NaN        NaN       NaN   \n",
      "delicious     0.063372 -0.012069 -0.004924     NaN   1.000000 -0.002005   \n",
      "favorite      0.031639 -0.006025 -0.002458     NaN  -0.002005  1.000000   \n",
      "comfortable        NaN       NaN       NaN     NaN        NaN       NaN   \n",
      "awesome       0.083960 -0.015990 -0.006523     NaN  -0.005321 -0.002656   \n",
      "enjoyed       0.070888 -0.013500 -0.005508     NaN  -0.004492 -0.002243   \n",
      "perfect       0.070888  0.063644 -0.005508     NaN  -0.004492 -0.002243   \n",
      "outstanding   0.031639 -0.006025 -0.002458     NaN  -0.002005 -0.001001   \n",
      "selection     0.035983  0.049275 -0.006523     NaN  -0.005321 -0.002656   \n",
      "incredible    0.031639 -0.006025 -0.002458     NaN  -0.002005 -0.001001   \n",
      "interesting   0.031639 -0.006025 -0.002458     NaN  -0.002005 -0.001001   \n",
      "beautiful     0.044766  0.113267 -0.003478     NaN  -0.002837 -0.001416   \n",
      "cute               NaN       NaN       NaN     NaN        NaN       NaN   \n",
      "inexpensive        NaN       NaN       NaN     NaN        NaN       NaN   \n",
      "delight            NaN       NaN       NaN     NaN        NaN       NaN   \n",
      "delightful    0.031639 -0.006025 -0.002458     NaN  -0.002005 -0.001001   \n",
      "fine          0.054855 -0.010447 -0.004262     NaN  -0.003476 -0.001736   \n",
      "nice          0.095637 -0.024285 -0.009907     NaN  -0.008081 -0.004034   \n",
      "good          0.121781 -0.022719 -0.018923     NaN  -0.015435 -0.007706   \n",
      "fantastic     0.070888 -0.013500 -0.005508     NaN  -0.004492 -0.002243   \n",
      "wonderful     0.077693  0.055662 -0.006036     NaN  -0.004924 -0.002458   \n",
      "glad          0.044766 -0.008526 -0.003478     NaN  -0.002837 -0.001416   \n",
      "\n",
      "             comfortable   awesome   enjoyed   perfect    ...     cute  \\\n",
      "sentiment            NaN  0.083960  0.070888  0.070888    ...      NaN   \n",
      "great                NaN -0.015990 -0.013500  0.063644    ...      NaN   \n",
      "loved                NaN -0.006523 -0.005508 -0.005508    ...      NaN   \n",
      "prompt               NaN       NaN       NaN       NaN    ...      NaN   \n",
      "delicious            NaN -0.005321 -0.004492 -0.004492    ...      NaN   \n",
      "favorite             NaN -0.002656 -0.002243 -0.002243    ...      NaN   \n",
      "comfortable          NaN       NaN       NaN       NaN    ...      NaN   \n",
      "awesome              NaN  1.000000 -0.005952 -0.005952    ...      NaN   \n",
      "enjoyed              NaN -0.005952  1.000000 -0.005025    ...      NaN   \n",
      "perfect              NaN -0.005952 -0.005025  1.000000    ...      NaN   \n",
      "outstanding          NaN -0.002656 -0.002243 -0.002243    ...      NaN   \n",
      "selection            NaN -0.007049 -0.005952 -0.005952    ...      NaN   \n",
      "incredible           NaN -0.002656 -0.002243 -0.002243    ...      NaN   \n",
      "interesting          NaN -0.002656 -0.002243 -0.002243    ...      NaN   \n",
      "beautiful            NaN -0.003759 -0.003173 -0.003173    ...      NaN   \n",
      "cute                 NaN       NaN       NaN       NaN    ...      NaN   \n",
      "inexpensive          NaN       NaN       NaN       NaN    ...      NaN   \n",
      "delight              NaN       NaN       NaN       NaN    ...      NaN   \n",
      "delightful           NaN -0.002656 -0.002243 -0.002243    ...      NaN   \n",
      "fine                 NaN -0.004606 -0.003889 -0.003889    ...      NaN   \n",
      "nice                 NaN -0.010706 -0.009039  0.103952    ...      NaN   \n",
      "good                 NaN -0.020449  0.044397 -0.017266    ...      NaN   \n",
      "fantastic            NaN -0.005952 -0.005025 -0.005025    ...      NaN   \n",
      "wonderful            NaN -0.006523 -0.005508 -0.005508    ...      NaN   \n",
      "glad                 NaN -0.003759 -0.003173 -0.003173    ...      NaN   \n",
      "\n",
      "             inexpensive  delight  delightful      fine      nice      good  \\\n",
      "sentiment            NaN      NaN    0.031639  0.054855  0.095637  0.121781   \n",
      "great                NaN      NaN   -0.006025 -0.010447 -0.024285 -0.022719   \n",
      "loved                NaN      NaN   -0.002458 -0.004262 -0.009907 -0.018923   \n",
      "prompt               NaN      NaN         NaN       NaN       NaN       NaN   \n",
      "delicious            NaN      NaN   -0.002005 -0.003476 -0.008081 -0.015435   \n",
      "favorite             NaN      NaN   -0.001001 -0.001736 -0.004034 -0.007706   \n",
      "comfortable          NaN      NaN         NaN       NaN       NaN       NaN   \n",
      "awesome              NaN      NaN   -0.002656 -0.004606 -0.010706 -0.020449   \n",
      "enjoyed              NaN      NaN   -0.002243 -0.003889 -0.009039  0.044397   \n",
      "perfect              NaN      NaN   -0.002243 -0.003889  0.103952 -0.017266   \n",
      "outstanding          NaN      NaN   -0.001001 -0.001736 -0.004034 -0.007706   \n",
      "selection            NaN      NaN   -0.002656 -0.004606 -0.010706  0.136052   \n",
      "incredible           NaN      NaN   -0.001001 -0.001736 -0.004034 -0.007706   \n",
      "interesting          NaN      NaN   -0.001001 -0.001736 -0.004034 -0.007706   \n",
      "beautiful            NaN      NaN   -0.001416 -0.002456 -0.005708 -0.010903   \n",
      "cute                 NaN      NaN         NaN       NaN       NaN       NaN   \n",
      "inexpensive          NaN      NaN         NaN       NaN       NaN       NaN   \n",
      "delight              NaN      NaN         NaN       NaN       NaN       NaN   \n",
      "delightful           NaN      NaN    1.000000 -0.001736 -0.004034 -0.007706   \n",
      "fine                 NaN      NaN   -0.001736  1.000000 -0.006995 -0.013360   \n",
      "nice                 NaN      NaN   -0.004034 -0.006995  1.000000 -0.031058   \n",
      "good                 NaN      NaN   -0.007706 -0.013360 -0.031058  1.000000   \n",
      "fantastic            NaN      NaN   -0.002243 -0.003889 -0.009039 -0.017266   \n",
      "wonderful            NaN      NaN   -0.002458 -0.004262 -0.009907 -0.018923   \n",
      "glad                 NaN      NaN   -0.001416 -0.002456 -0.005708 -0.010903   \n",
      "\n",
      "             fantastic  wonderful      glad  \n",
      "sentiment     0.070888   0.077693  0.044766  \n",
      "great        -0.013500   0.055662 -0.008526  \n",
      "loved        -0.005508  -0.006036 -0.003478  \n",
      "prompt             NaN        NaN       NaN  \n",
      "delicious    -0.004492  -0.004924 -0.002837  \n",
      "favorite     -0.002243  -0.002458 -0.001416  \n",
      "comfortable        NaN        NaN       NaN  \n",
      "awesome      -0.005952  -0.006523 -0.003759  \n",
      "enjoyed      -0.005025  -0.005508 -0.003173  \n",
      "perfect      -0.005025  -0.005508 -0.003173  \n",
      "outstanding  -0.002243  -0.002458 -0.001416  \n",
      "selection    -0.005952  -0.006523 -0.003759  \n",
      "incredible   -0.002243  -0.002458 -0.001416  \n",
      "interesting  -0.002243  -0.002458 -0.001416  \n",
      "beautiful    -0.003173  -0.003478 -0.002004  \n",
      "cute               NaN        NaN       NaN  \n",
      "inexpensive        NaN        NaN       NaN  \n",
      "delight            NaN        NaN       NaN  \n",
      "delightful   -0.002243  -0.002458 -0.001416  \n",
      "fine         -0.003889  -0.004262 -0.002456  \n",
      "nice         -0.009039  -0.009907 -0.005708  \n",
      "good         -0.017266  -0.018923 -0.010903  \n",
      "fantastic     1.000000  -0.005508 -0.003173  \n",
      "wonderful    -0.005508   1.000000 -0.003478  \n",
      "glad         -0.003173  -0.003478  1.000000  \n",
      "\n",
      "[25 rows x 25 columns]\n"
     ]
    },
    {
     "data": {
      "image/png": "[encoded data removed]",
      "text/plain": [
       "<Figure size 864x648 with 2 Axes>"
      ]
     },
     "metadata": {
      "needs_background": "light"
     },
     "output_type": "display_data"
    }
   ],
   "source": [
    "corrmat = reviews.corr()\n",
    "print(corrmat)\n",
    "\n",
    "f, ax = plt.subplots(figsize=(12, 9))\n",
    "\n",
    "sns.heatmap(corrmat, square=True)\n",
    "plt.show()"
   ]
  },
  {
   "cell_type": "code",
   "execution_count": 103,
   "metadata": {},
   "outputs": [],
   "source": [
    "data = reviews[positive]\n",
    "target = reviews['sentiment']"
   ]
  },
  {
   "cell_type": "code",
   "execution_count": 104,
   "metadata": {},
   "outputs": [
    {
     "name": "stdout",
     "output_type": "stream",
     "text": [
      "Number of mislabeled points out of a total 1000 points : 382\n"
     ]
    }
   ],
   "source": [
    "from sklearn.naive_bayes import BernoulliNB\n",
    "\n",
    "bnb = BernoulliNB()\n",
    "\n",
    "bnb.fit(data, target)\n",
    "y_pred = bnb.predict(data)\n",
    "\n",
    "print(\"Number of mislabeled points out of a total {} points : {}\".format(\n",
    "    data.shape[0],\n",
    "    (target != y_pred).sum()\n",
    "))"
   ]
  },
  {
   "cell_type": "code",
   "execution_count": 107,
   "metadata": {},
   "outputs": [],
   "source": [
    "amazon = pd.read_csv(r\"C:\\Users\\nstow\\Desktop\\Python\\Amazon Reviews.csv\")\n",
    "amazon.columns = ['feedback', 'sentiment']"
   ]
  },
  {
   "cell_type": "code",
   "execution_count": 110,
   "metadata": {},
   "outputs": [],
   "source": [
    "positive = ['great', 'loved', 'prompt','delicious', 'favorite', 'comfortable', 'awesome', 'enjoyed', 'perfect', \\\n",
    "            'outstanding', 'selection', 'incredible', 'interesting', 'beautiful', 'cute', 'inexpensive', 'delight',\\\n",
    "            'delightful', 'fine', 'nice', 'good', 'selection', 'fantastic', 'wonderful', 'fantastic', 'glad']\n",
    "for pos in positive:\n",
    "    amazon[str(pos)] = amazon.feedback.str.contains(' ' + str(pos) + ' ')"
   ]
  },
  {
   "cell_type": "code",
   "execution_count": 111,
   "metadata": {},
   "outputs": [],
   "source": [
    "data1 = amazon[positive]\n",
    "target1 = amazon['sentiment']"
   ]
  },
  {
   "cell_type": "code",
   "execution_count": 112,
   "metadata": {},
   "outputs": [
    {
     "name": "stdout",
     "output_type": "stream",
     "text": [
      "Number of mislabeled points out of a total 1000 points : 421\n"
     ]
    }
   ],
   "source": [
    "bnb = BernoulliNB()\n",
    "\n",
    "bnb.fit(data1, target1)\n",
    "y_pred = bnb.predict(data1)\n",
    "\n",
    "print(\"Number of mislabeled points out of a total {} points : {}\".format(\n",
    "    data1.shape[0],\n",
    "    (target1 != y_pred).sum()\n",
    "))"
   ]
  }
 ],
 "metadata": {
  "kernelspec": {
   "display_name": "Python 3",
   "language": "python",
   "name": "python3"
  },
  "language_info": {
   "codemirror_mode": {
    "name": "ipython",
    "version": 3
   },
   "file_extension": ".py",
   "mimetype": "text/x-python",
   "name": "python",
   "nbconvert_exporter": "python",
   "pygments_lexer": "ipython3",
   "version": "3.7.1"
  }
 },
 "nbformat": 4,
 "nbformat_minor": 2
}
