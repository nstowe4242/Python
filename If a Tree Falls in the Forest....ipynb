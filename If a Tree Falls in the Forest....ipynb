{
 "cells": [
  {
   "cell_type": "code",
   "execution_count": 113,
   "metadata": {},
   "outputs": [],
   "source": [
    "import pandas as pd\n",
    "import numpy as np\n",
    "import matplotlib.pyplot as plt\n",
    "import seaborn as sns\n",
    "from sklearn import ensemble\n",
    "from sklearn.model_selection import cross_val_score\n",
    "from sklearn import tree\n",
    "from IPython.display import Image\n",
    "import pydotplus\n",
    "import graphviz\n",
    "import time\n",
    "%matplotlib inline"
   ]
  },
  {
   "cell_type": "code",
   "execution_count": 114,
   "metadata": {},
   "outputs": [
    {
     "name": "stdout",
     "output_type": "stream",
     "text": [
      "<class 'pandas.core.frame.DataFrame'>\n",
      "RangeIndex: 3168 entries, 0 to 3167\n",
      "Data columns (total 21 columns):\n",
      "meanfreq    3168 non-null float64\n",
      "sd          3168 non-null float64\n",
      "median      3168 non-null float64\n",
      "Q25         3168 non-null float64\n",
      "Q75         3168 non-null float64\n",
      "IQR         3168 non-null float64\n",
      "skew        3168 non-null float64\n",
      "kurt        3168 non-null float64\n",
      "sp.ent      3168 non-null float64\n",
      "sfm         3168 non-null float64\n",
      "mode        3168 non-null float64\n",
      "centroid    3168 non-null float64\n",
      "meanfun     3168 non-null float64\n",
      "minfun      3168 non-null float64\n",
      "maxfun      3168 non-null float64\n",
      "meandom     3168 non-null float64\n",
      "mindom      3168 non-null float64\n",
      "maxdom      3168 non-null float64\n",
      "dfrange     3168 non-null float64\n",
      "modindx     3168 non-null float64\n",
      "label       3168 non-null object\n",
      "dtypes: float64(20), object(1)\n",
      "memory usage: 519.8+ KB\n"
     ]
    }
   ],
   "source": [
    "voice = pd.read_csv(r\"C:\\Users\\nstow\\Desktop\\Python\\voice.csv\")\n",
    "\n",
    "## check for Null or NAN values\n",
    "voice.info()"
   ]
  },
  {
   "cell_type": "code",
   "execution_count": 115,
   "metadata": {},
   "outputs": [],
   "source": [
    "## Ready the data to be used in the decision tree\n",
    "\n",
    "voice_label = pd.DataFrame()\n",
    "voice_label['label'] = voice['label']\n",
    "voice = voice.drop(columns = 'label')\n",
    "\n",
    "voice_label['label_male'] = np.where(voice_label['label'] == 'male', 1, 0)\n",
    "voice_label = voice_label.drop(columns = 'label')"
   ]
  },
  {
   "cell_type": "markdown",
   "metadata": {},
   "source": [
    "## Single Decision Tree Test"
   ]
  },
  {
   "cell_type": "code",
   "execution_count": 116,
   "metadata": {},
   "outputs": [
    {
     "name": "stdout",
     "output_type": "stream",
     "text": [
      "0.9071969696969697\n"
     ]
    }
   ],
   "source": [
    "## Create a single dicision tree and determine the accuracy\n",
    "\n",
    "dTree = tree.DecisionTreeClassifier(\n",
    "    criterion='entropy',\n",
    "    max_features=1,\n",
    "    max_depth=5,\n",
    "    random_state = 1337\n",
    ")\n",
    "dTree.fit(voice, voice_label)\n",
    "\n",
    "# Render our tree.\n",
    "dot_data = tree.export_graphviz(\n",
    "    dTree, out_file=None,\n",
    "    feature_names=voice.columns,\n",
    "    class_names=['Male', 'Female'],\n",
    "    filled=True\n",
    ")\n",
    "\n",
    "print(dTree.score(voice, voice_label, sample_weight=None))"
   ]
  },
  {
   "cell_type": "code",
   "execution_count": 117,
   "metadata": {},
   "outputs": [
    {
     "name": "stdout",
     "output_type": "stream",
     "text": [
      "0.9958964646464646\n"
     ]
    }
   ],
   "source": [
    "## compare accuracy\n",
    "\n",
    "dTree1 = tree.DecisionTreeClassifier(\n",
    "    criterion='entropy',\n",
    "    max_features=5,\n",
    "    max_depth=8,\n",
    "    random_state = 1337\n",
    ")\n",
    "dTree1.fit(voice, voice_label)\n",
    "\n",
    "# Render our tree.\n",
    "dot_data = tree.export_graphviz(\n",
    "    dTree1, out_file=None,\n",
    "    feature_names=voice.columns,\n",
    "    class_names=['Male', 'Female'],\n",
    "    filled=True\n",
    ")\n",
    "\n",
    "print(dTree1.score(voice, voice_label, sample_weight=None))"
   ]
  },
  {
   "cell_type": "code",
   "execution_count": 118,
   "metadata": {},
   "outputs": [
    {
     "name": "stdout",
     "output_type": "stream",
     "text": [
      "0.9943181818181818\n"
     ]
    }
   ],
   "source": [
    "dTree2 = tree.DecisionTreeClassifier(\n",
    "    criterion='entropy',\n",
    "    max_features=6,\n",
    "    max_depth=9,\n",
    "    random_state = 1337\n",
    ")\n",
    "dTree2.fit(voice, voice_label)\n",
    "\n",
    "# Render our tree.\n",
    "dot_data = tree.export_graphviz(\n",
    "    dTree2, out_file=None,\n",
    "    feature_names=voice.columns,\n",
    "    class_names=['Male', 'Female'],\n",
    "    filled=True\n",
    ")\n",
    "\n",
    "print(dTree2.score(voice, voice_label, sample_weight=None))"
   ]
  },
  {
   "cell_type": "code",
   "execution_count": 120,
   "metadata": {},
   "outputs": [
    {
     "name": "stdout",
     "output_type": "stream",
     "text": [
      "--- 0.0319674015045166 seconds ---\n",
      "1.0\n"
     ]
    }
   ],
   "source": [
    "start_time = time.time()\n",
    "\n",
    "dTree3 = tree.DecisionTreeClassifier(\n",
    "    criterion='entropy',\n",
    "    max_features=6,\n",
    "    max_depth=111,\n",
    "    random_state = 1337\n",
    ")\n",
    "dTree3.fit(voice, voice_label)\n",
    "\n",
    "# Render our tree.\n",
    "dot_data = tree.export_graphviz(\n",
    "    dTree3, out_file=None,\n",
    "    feature_names=voice.columns,\n",
    "    class_names=['Male', 'Female'],\n",
    "    filled=True\n",
    ")\n",
    "print(\"--- %s seconds ---\" % (time.time() - start_time))\n",
    "print(dTree3.score(voice, voice_label, sample_weight=None))"
   ]
  },
  {
   "cell_type": "markdown",
   "metadata": {},
   "source": [
    "### We have achieved 100% accuracy, or the 'best' decision tree that can be achieved for this data set. The algorithm runs in about 3/100th of a second."
   ]
  },
  {
   "cell_type": "markdown",
   "metadata": {},
   "source": [
    "## Random Forest Test"
   ]
  },
  {
   "cell_type": "code",
   "execution_count": 121,
   "metadata": {},
   "outputs": [],
   "source": [
    "from sklearn.ensemble import RandomForestClassifier\n",
    "from sklearn.datasets import make_classification"
   ]
  },
  {
   "cell_type": "code",
   "execution_count": 154,
   "metadata": {
    "scrolled": false
   },
   "outputs": [
    {
     "name": "stdout",
     "output_type": "stream",
     "text": [
      "--- 0.06905221939086914 seconds ---\n",
      "0.936\n"
     ]
    }
   ],
   "source": [
    "start_time1 = time.time()\n",
    "\n",
    "voice, voice_label = make_classification(n_samples=1000, \n",
    "                            n_features=4,\n",
    "                            n_informative=2)\n",
    "clf = RandomForestClassifier(n_estimators=100, max_depth=2)\n",
    "\n",
    "clf.fit(voice, voice_label)\n",
    "\n",
    "print(\"--- %s seconds ---\" % (time.time() - start_time1))\n",
    "print(clf.score(voice, voice_label))"
   ]
  },
  {
   "cell_type": "code",
   "execution_count": 148,
   "metadata": {},
   "outputs": [
    {
     "name": "stdout",
     "output_type": "stream",
     "text": [
      "--- 0.04989814758300781 seconds ---\n",
      "0.93\n"
     ]
    }
   ],
   "source": [
    "start_time2 = time.time()\n",
    "\n",
    "voice, voice_label = make_classification(n_samples=100, \n",
    "                            n_features=4,\n",
    "                            n_informative=2)\n",
    "clf1 = RandomForestClassifier(n_estimators=100, max_depth=2)\n",
    "\n",
    "clf1.fit(voice, voice_label)\n",
    "\n",
    "print(\"--- %s seconds ---\" % (time.time() - start_time2))\n",
    "print(clf1.score(voice, voice_label))"
   ]
  },
  {
   "cell_type": "code",
   "execution_count": 128,
   "metadata": {},
   "outputs": [
    {
     "name": "stdout",
     "output_type": "stream",
     "text": [
      "--- 0.007978677749633789 seconds ---\n",
      "0.92\n"
     ]
    }
   ],
   "source": [
    "start_time3 = time.time()\n",
    "\n",
    "voice, voice_label = make_classification(n_samples=100, \n",
    "                            n_features=4,\n",
    "                            n_informative=2)\n",
    "clf2 = RandomForestClassifier(n_estimators=10, max_depth=2)\n",
    "\n",
    "clf2.fit(voice, voice_label)\n",
    "\n",
    "print(\"--- %s seconds ---\" % (time.time() - start_time3))\n",
    "print(clf2.score(voice, voice_label))"
   ]
  },
  {
   "cell_type": "code",
   "execution_count": 130,
   "metadata": {},
   "outputs": [
    {
     "name": "stdout",
     "output_type": "stream",
     "text": [
      "--- 0.001996755599975586 seconds ---\n",
      "0.8\n"
     ]
    }
   ],
   "source": [
    "start_time4 = time.time()\n",
    "\n",
    "voice, voice_label = make_classification(n_samples=10, \n",
    "                            n_features=4,\n",
    "                            n_informative=2)\n",
    "clf3 = RandomForestClassifier(n_estimators=1, max_depth=2)\n",
    "\n",
    "clf3.fit(voice, voice_label)\n",
    "\n",
    "print(\"--- %s seconds ---\" % (time.time() - start_time4))\n",
    "print(clf3.score(voice, voice_label))"
   ]
  },
  {
   "cell_type": "markdown",
   "metadata": {},
   "source": [
    "### We got the time of the Random Tree Classifier below that of the single Decision Tree but the accuracy is at 80%. So the single tree is accurate all of the time, and the Random Tree is only accurate 4 out of 5 times. To get close to the same accuracy with the Random Tree Classifier, we have to more than double the time."
   ]
  }
 ],
 "metadata": {
  "kernelspec": {
   "display_name": "Python 3",
   "language": "python",
   "name": "python3"
  },
  "language_info": {
   "codemirror_mode": {
    "name": "ipython",
    "version": 3
   },
   "file_extension": ".py",
   "mimetype": "text/x-python",
   "name": "python",
   "nbconvert_exporter": "python",
   "pygments_lexer": "ipython3",
   "version": "3.7.2"
  }
 },
 "nbformat": 4,
 "nbformat_minor": 2
}
