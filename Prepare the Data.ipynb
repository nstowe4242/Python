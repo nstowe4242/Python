{
 "cells": [
  {
   "cell_type": "code",
   "execution_count": 44,
   "metadata": {},
   "outputs": [],
   "source": [
    "import numpy as np\n",
    "import pandas as pd\n",
    "import matplotlib.pyplot as plt\n",
    "import warnings\n",
    "%matplotlib inline"
   ]
  },
  {
   "cell_type": "code",
   "execution_count": 78,
   "metadata": {},
   "outputs": [],
   "source": [
    "df = pd.read_csv(r\"C:\\Users\\nstow\\Desktop\\Python\\table_8_offenses_known_to_law_enforcement_new_york_by_city_2013.csv\")"
   ]
  },
  {
   "cell_type": "code",
   "execution_count": 79,
   "metadata": {},
   "outputs": [],
   "source": [
    "df = df.iloc[4:]\n",
    "df = df.iloc[:, :-1]\n",
    "df.columns = ['city', 'population', 'violent crime', 'murder', 'revised rape', 'legacy rape', 'robbery', 'assault',\\\n",
    "              'property crime', 'burglary', 'theft', 'motor vehicle theft', 'arson']"
   ]
  },
  {
   "cell_type": "code",
   "execution_count": 80,
   "metadata": {},
   "outputs": [],
   "source": [
    "df['arson'] = df['arson'].fillna(0)\n",
    "\n",
    "df['population'] = df['population'].str.replace(',', '')\n",
    "df['violent crime'] = df['violent crime'].str.replace(',', '')\n",
    "df['murder'] = df['murder'].str.replace(',', '')\n",
    "df['legacy rape'] = df['legacy rape'].str.replace(',', '')\n",
    "df['robbery'] = df['robbery'].str.replace(',', '')\n",
    "df['assault'] = df['assault'].str.replace(',', '')\n",
    "df['property crime'] = df['property crime'].str.replace(',', '')\n",
    "df['burglary'] = df['burglary'].str.replace(',', '')\n",
    "df['theft'] = df['theft'].str.replace(',', '')\n",
    "df['motor vehicle theft'] = df['motor vehicle theft'].str.replace(',', '')\n",
    "df['arson'] = df['arson'].str.replace(',', '')"
   ]
  },
  {
   "cell_type": "code",
   "execution_count": 86,
   "metadata": {},
   "outputs": [],
   "source": [
    "df['population'] = pd.to_numeric(df['population'])\n",
    "df['violent crime'] = pd.to_numeric(df['violent crime'])\n",
    "df['murder'] = pd.to_numeric(df['murder'])\n",
    "df['legacy rape'] = pd.to_numeric(df['legacy rape'])\n",
    "df['robbery'] = pd.to_numeric(df['robbery'])\n",
    "df['raobbery'] = pd.to_numeric(df['robbery'])\n",
    "df['assault'] = pd.to_numeric(df['assault'])\n",
    "df['property crime'] = pd.to_numeric(df['property crime'])\n",
    "df['burglary'] = pd.to_numeric(df['burglary'])\n",
    "df['theft'] = pd.to_numeric(df['theft'])\n",
    "df['motor vehicle theft'] = pd.to_numeric(df['motor vehicle theft'])\n",
    "df['arson'] = pd.to_numeric(df['arson'])"
   ]
  },
  {
   "cell_type": "code",
   "execution_count": 87,
   "metadata": {},
   "outputs": [],
   "source": [
    "df['population squared'] = df['population']**2"
   ]
  },
  {
   "cell_type": "code",
   "execution_count": 88,
   "metadata": {},
   "outputs": [],
   "source": [
    "df['murderBool'] = np.where(df['murder'] < 1, 0, 1)"
   ]
  },
  {
   "cell_type": "code",
   "execution_count": 89,
   "metadata": {},
   "outputs": [],
   "source": [
    "df['robberyBool'] = np.where(df['robbery'] < 1, 0, 1)"
   ]
  }
 ],
 "metadata": {
  "kernelspec": {
   "display_name": "Python 3",
   "language": "python",
   "name": "python3"
  },
  "language_info": {
   "codemirror_mode": {
    "name": "ipython",
    "version": 3
   },
   "file_extension": ".py",
   "mimetype": "text/x-python",
   "name": "python",
   "nbconvert_exporter": "python",
   "pygments_lexer": "ipython3",
   "version": "3.7.1"
  }
 },
 "nbformat": 4,
 "nbformat_minor": 2
}
