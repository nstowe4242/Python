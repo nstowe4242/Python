{
 "cells": [
  {
   "cell_type": "code",
   "execution_count": 1,
   "metadata": {},
   "outputs": [],
   "source": [
    "import numpy as np\n",
    "import pandas as pd\n",
    "import scipy\n",
    "import matplotlib.pyplot as plt\n",
    "import seaborn as sns\n",
    "from sklearn.svm import LinearSVC\n",
    "from sklearn.feature_selection import SelectFromModel\n",
    "from sklearn.svm import SVR\n",
    "from sklearn.model_selection import cross_val_score\n",
    "%matplotlib inline"
   ]
  },
  {
   "cell_type": "code",
   "execution_count": 2,
   "metadata": {},
   "outputs": [],
   "source": [
    "raw_data = pd.read_csv(r\"C:\\Users\\nstow\\Desktop\\Python\\epi_r.csv\")"
   ]
  },
  {
   "cell_type": "code",
   "execution_count": 3,
   "metadata": {},
   "outputs": [
    {
     "name": "stdout",
     "output_type": "stream",
     "text": [
      "<class 'pandas.core.frame.DataFrame'>\n",
      "Int64Index: 15864 entries, 0 to 20051\n",
      "Columns: 680 entries, title to turkey\n",
      "dtypes: float64(5), int64(674), object(1)\n",
      "memory usage: 82.4+ MB\n"
     ]
    }
   ],
   "source": [
    "## Remove Null data and check how much data loss there was\n",
    "df = raw_data\n",
    "df = df.dropna()\n",
    "df.info()"
   ]
  },
  {
   "cell_type": "code",
   "execution_count": 4,
   "metadata": {},
   "outputs": [
    {
     "name": "stdout",
     "output_type": "stream",
     "text": [
      "15864\n",
      "680\n"
     ]
    }
   ],
   "source": [
    "## Count the number of rows remaining, as info returns too much data to display\n",
    "row_count = df.shape[0]\n",
    "column_count = df.shape[1]\n",
    "print(row_count)\n",
    "print(column_count)"
   ]
  },
  {
   "cell_type": "markdown",
   "metadata": {},
   "source": [
    "### We still have nearly 16000 rows of data, so we will continue with the null data simply removed."
   ]
  },
  {
   "cell_type": "code",
   "execution_count": 5,
   "metadata": {},
   "outputs": [
    {
     "name": "stderr",
     "output_type": "stream",
     "text": [
      "c:\\users\\nstow\\appdata\\local\\programs\\python\\python37\\lib\\site-packages\\ipykernel_launcher.py:2: SettingWithCopyWarning: \n",
      "A value is trying to be set on a copy of a slice from a DataFrame.\n",
      "Try using .loc[row_indexer,col_indexer] = value instead\n",
      "\n",
      "See the caveats in the documentation: http://pandas.pydata.org/pandas-docs/stable/indexing.html#indexing-view-versus-copy\n",
      "  \n"
     ]
    }
   ],
   "source": [
    "## create binary column for use with a binary classifier\n",
    "df['five_stars'] = np.where(df['rating'] == 5, 1, 0)"
   ]
  },
  {
   "cell_type": "code",
   "execution_count": 6,
   "metadata": {},
   "outputs": [
    {
     "name": "stderr",
     "output_type": "stream",
     "text": [
      "c:\\users\\nstow\\appdata\\local\\programs\\python\\python37\\lib\\site-packages\\sklearn\\svm\\base.py:931: ConvergenceWarning: Liblinear failed to converge, increase the number of iterations.\n",
      "  \"the number of iterations.\", ConvergenceWarning)\n"
     ]
    },
    {
     "data": {
      "text/plain": [
       "(15864, 36)"
      ]
     },
     "execution_count": 6,
     "metadata": {},
     "output_type": "execute_result"
    }
   ],
   "source": [
    "## perform feature selection with l1 regression\n",
    "X = df.drop(columns =  ['rating', 'title', 'five_stars'])\n",
    "y = df['five_stars']\n",
    "\n",
    "lsvc = LinearSVC(C=0.01, penalty=\"l1\", dual=False).fit(X, y)\n",
    "model = SelectFromModel(lsvc, prefit=True)\n",
    "\n",
    "df_features = model.transform(X)\n",
    "df_features.shape"
   ]
  },
  {
   "cell_type": "code",
   "execution_count": 7,
   "metadata": {},
   "outputs": [
    {
     "name": "stdout",
     "output_type": "stream",
     "text": [
      "Index(['protein', 'fat', 'alcoholic', 'appetizer', 'backyard bbq', 'bake',\n",
      "       'bon appétit', 'cheese', 'chicken', 'christmas', 'dessert', 'dinner',\n",
      "       'drink', 'fall', 'freeze/chill', 'gourmet', 'house & garden',\n",
      "       'kidney friendly', 'low cholesterol', 'no sugar added', 'pasta',\n",
      "       'peanut free', 'potato', 'quick & easy', 'rice', 'sauce', 'sauté',\n",
      "       'side', 'soy free', 'spring', 'summer', 'thanksgiving', 'tomato',\n",
      "       'vegetable', 'winter', 'turkey'],\n",
      "      dtype='object')\n"
     ]
    }
   ],
   "source": [
    "## create dataframe to be able to extract column names from the feature selection without different sized dataframes\n",
    "df_hold = df.drop(columns = ['rating', 'title', 'five_stars'])\n",
    "\n",
    "## determine column names from feature selection \n",
    "model = SelectFromModel(lsvc, prefit=True)\n",
    "features = model.get_support()\n",
    "features = df_hold.columns[features]\n",
    "print(features)"
   ]
  },
  {
   "cell_type": "code",
   "execution_count": 8,
   "metadata": {},
   "outputs": [
    {
     "name": "stdout",
     "output_type": "stream",
     "text": [
      "<class 'pandas.core.frame.DataFrame'>\n",
      "Int64Index: 15864 entries, 0 to 20051\n",
      "Data columns (total 36 columns):\n",
      "protein            15864 non-null float64\n",
      "fat                15864 non-null float64\n",
      "alcoholic          15864 non-null int64\n",
      "appetizer          15864 non-null int64\n",
      "backyard bbq       15864 non-null int64\n",
      "bake               15864 non-null int64\n",
      "bon appétit        15864 non-null int64\n",
      "cheese             15864 non-null int64\n",
      "chicken            15864 non-null int64\n",
      "christmas          15864 non-null int64\n",
      "dessert            15864 non-null int64\n",
      "dinner             15864 non-null int64\n",
      "drink              15864 non-null int64\n",
      "fall               15864 non-null int64\n",
      "freeze/chill       15864 non-null int64\n",
      "gourmet            15864 non-null int64\n",
      "house & garden     15864 non-null int64\n",
      "kidney friendly    15864 non-null int64\n",
      "low cholesterol    15864 non-null int64\n",
      "no sugar added     15864 non-null int64\n",
      "pasta              15864 non-null int64\n",
      "peanut free        15864 non-null int64\n",
      "potato             15864 non-null int64\n",
      "quick & easy       15864 non-null int64\n",
      "rice               15864 non-null int64\n",
      "sauce              15864 non-null int64\n",
      "sauté              15864 non-null int64\n",
      "side               15864 non-null int64\n",
      "soy free           15864 non-null int64\n",
      "spring             15864 non-null int64\n",
      "summer             15864 non-null int64\n",
      "thanksgiving       15864 non-null int64\n",
      "tomato             15864 non-null int64\n",
      "vegetable          15864 non-null int64\n",
      "winter             15864 non-null int64\n",
      "turkey             15864 non-null int64\n",
      "dtypes: float64(2), int64(34)\n",
      "memory usage: 4.5 MB\n"
     ]
    }
   ],
   "source": [
    "## create new dataframe with only the features from above and check accuracy with info()\n",
    "df_features = df[features]\n",
    "df_features.info()"
   ]
  },
  {
   "cell_type": "code",
   "execution_count": 9,
   "metadata": {},
   "outputs": [
    {
     "name": "stdout",
     "output_type": "stream",
     "text": [
      "peanut free      soy free           0.941653\n",
      "alcoholic        drink              0.851959\n",
      "protein          fat                0.712194\n",
      "bon appétit      gourmet            0.697086\n",
      "no sugar added   peanut free        0.476860\n",
      "                 soy free           0.470340\n",
      "                 side               0.424874\n",
      "dessert          kidney friendly    0.420922\n",
      "kidney friendly  soy free           0.407175\n",
      "                 peanut free        0.400350\n",
      "bake             dessert            0.395056\n",
      "alcoholic        house & garden     0.392880\n",
      "fall             thanksgiving       0.371338\n",
      "drink            house & garden     0.364912\n",
      "peanut free      side               0.343739\n",
      "side             soy free           0.343058\n",
      "thanksgiving     turkey             0.289833\n",
      "dinner           peanut free        0.289253\n",
      "dessert          soy free           0.278657\n",
      "                 peanut free        0.263001\n",
      "dinner           soy free           0.248051\n",
      "christmas        winter             0.245813\n",
      "dessert          freeze/chill       0.244142\n",
      "christmas        thanksgiving       0.237821\n",
      "dinner           no sugar added     0.237611\n",
      "backyard bbq     summer             0.232755\n",
      "summer           winter             0.204284\n",
      "appetizer        peanut free        0.199574\n",
      "dessert          side               0.198838\n",
      "gourmet          quick & easy       0.190689\n",
      "                                      ...   \n",
      "sauce            tomato             0.002503\n",
      "fat              freeze/chill       0.002370\n",
      "                 house & garden     0.002355\n",
      "potato           spring             0.002240\n",
      "fat              turkey             0.002215\n",
      "house & garden   winter             0.002153\n",
      "fat              low cholesterol    0.002122\n",
      "backyard bbq     bon appétit        0.002117\n",
      "cheese           gourmet            0.002113\n",
      "rice             spring             0.002044\n",
      "backyard bbq     vegetable          0.002032\n",
      "spring           tomato             0.001968\n",
      "freeze/chill     gourmet            0.001931\n",
      "fall             pasta              0.001761\n",
      "gourmet          summer             0.001545\n",
      "low cholesterol  spring             0.001451\n",
      "fat              dinner             0.001170\n",
      "sauce            turkey             0.001134\n",
      "fat              vegetable          0.000983\n",
      "protein          turkey             0.000748\n",
      "low cholesterol  rice               0.000672\n",
      "sauce            summer             0.000606\n",
      "rice             turkey             0.000588\n",
      "backyard bbq     freeze/chill       0.000550\n",
      "alcoholic        low cholesterol    0.000473\n",
      "fall             no sugar added     0.000457\n",
      "appetizer        potato             0.000306\n",
      "side             spring             0.000171\n",
      "christmas        house & garden     0.000115\n",
      "                 sauce              0.000057\n",
      "Length: 630, dtype: float64\n"
     ]
    }
   ],
   "source": [
    "##create correlation matrix and print by absolute value to remove 4 most highly correlated values\n",
    "corr_matrix = df_features.corr().abs()\n",
    "\n",
    "corr_abs = (corr_matrix.where(np.triu(np.ones(corr_matrix.shape), k=1).astype(np.bool))\n",
    "                 .stack()\n",
    "                 .sort_values(ascending=False))\n",
    "print(corr_abs)"
   ]
  },
  {
   "cell_type": "code",
   "execution_count": 16,
   "metadata": {},
   "outputs": [
    {
     "name": "stdout",
     "output_type": "stream",
     "text": [
      "<class 'pandas.core.frame.DataFrame'>\n",
      "Int64Index: 15864 entries, 0 to 20051\n",
      "Data columns (total 30 columns):\n",
      "protein            15864 non-null float64\n",
      "alcoholic          15864 non-null int64\n",
      "appetizer          15864 non-null int64\n",
      "backyard bbq       15864 non-null int64\n",
      "bake               15864 non-null int64\n",
      "bon appétit        15864 non-null int64\n",
      "cheese             15864 non-null int64\n",
      "chicken            15864 non-null int64\n",
      "christmas          15864 non-null int64\n",
      "dessert            15864 non-null int64\n",
      "dinner             15864 non-null int64\n",
      "drink              15864 non-null int64\n",
      "fall               15864 non-null int64\n",
      "freeze/chill       15864 non-null int64\n",
      "house & garden     15864 non-null int64\n",
      "low cholesterol    15864 non-null int64\n",
      "no sugar added     15864 non-null int64\n",
      "pasta              15864 non-null int64\n",
      "potato             15864 non-null int64\n",
      "quick & easy       15864 non-null int64\n",
      "rice               15864 non-null int64\n",
      "sauce              15864 non-null int64\n",
      "sauté              15864 non-null int64\n",
      "spring             15864 non-null int64\n",
      "summer             15864 non-null int64\n",
      "thanksgiving       15864 non-null int64\n",
      "tomato             15864 non-null int64\n",
      "vegetable          15864 non-null int64\n",
      "winter             15864 non-null int64\n",
      "turkey             15864 non-null int64\n",
      "dtypes: float64(1), int64(29)\n",
      "memory usage: 3.8 MB\n"
     ]
    }
   ],
   "source": [
    "## Remove highly correlated features to get to 30 features for the dataset as described by the instructions\n",
    "df_features = df_features.drop(columns = ['soy free', 'fat', 'gourmet', 'peanut free', 'soy free', 'side','kidney friendly'])\n",
    "df_features.info()"
   ]
  },
  {
   "cell_type": "code",
   "execution_count": 17,
   "metadata": {},
   "outputs": [
    {
     "name": "stderr",
     "output_type": "stream",
     "text": [
      "c:\\users\\nstow\\appdata\\local\\programs\\python\\python37\\lib\\site-packages\\sklearn\\svm\\base.py:196: FutureWarning: The default value of gamma will change from 'auto' to 'scale' in version 0.22 to account better for unscaled features. Set gamma explicitly to 'auto' or 'scale' to avoid this warning.\n",
      "  \"avoid this warning.\", FutureWarning)\n"
     ]
    },
    {
     "data": {
      "text/plain": [
       "SVR(C=1.0, cache_size=200, coef0=0.0, degree=3, epsilon=0.1,\n",
       "  gamma='auto_deprecated', kernel='rbf', max_iter=-1, shrinking=True,\n",
       "  tol=0.001, verbose=False)"
      ]
     },
     "execution_count": 17,
     "metadata": {},
     "output_type": "execute_result"
    }
   ],
   "source": [
    "svr = SVR()\n",
    "X = df_features.sample(frac=0.3, replace=True, random_state=1)\n",
    "y = df.five_stars.sample(frac=0.3, replace=True, random_state=1)\n",
    "svr.fit(X,y)"
   ]
  },
  {
   "cell_type": "code",
   "execution_count": 18,
   "metadata": {},
   "outputs": [
    {
     "data": {
      "text/plain": [
       "0.07170692150320701"
      ]
     },
     "execution_count": 18,
     "metadata": {},
     "output_type": "execute_result"
    }
   ],
   "source": [
    "svr.score(X, y)"
   ]
  },
  {
   "cell_type": "code",
   "execution_count": 19,
   "metadata": {},
   "outputs": [
    {
     "name": "stderr",
     "output_type": "stream",
     "text": [
      "c:\\users\\nstow\\appdata\\local\\programs\\python\\python37\\lib\\site-packages\\sklearn\\svm\\base.py:196: FutureWarning: The default value of gamma will change from 'auto' to 'scale' in version 0.22 to account better for unscaled features. Set gamma explicitly to 'auto' or 'scale' to avoid this warning.\n",
      "  \"avoid this warning.\", FutureWarning)\n",
      "c:\\users\\nstow\\appdata\\local\\programs\\python\\python37\\lib\\site-packages\\sklearn\\svm\\base.py:196: FutureWarning: The default value of gamma will change from 'auto' to 'scale' in version 0.22 to account better for unscaled features. Set gamma explicitly to 'auto' or 'scale' to avoid this warning.\n",
      "  \"avoid this warning.\", FutureWarning)\n",
      "c:\\users\\nstow\\appdata\\local\\programs\\python\\python37\\lib\\site-packages\\sklearn\\svm\\base.py:196: FutureWarning: The default value of gamma will change from 'auto' to 'scale' in version 0.22 to account better for unscaled features. Set gamma explicitly to 'auto' or 'scale' to avoid this warning.\n",
      "  \"avoid this warning.\", FutureWarning)\n",
      "c:\\users\\nstow\\appdata\\local\\programs\\python\\python37\\lib\\site-packages\\sklearn\\svm\\base.py:196: FutureWarning: The default value of gamma will change from 'auto' to 'scale' in version 0.22 to account better for unscaled features. Set gamma explicitly to 'auto' or 'scale' to avoid this warning.\n",
      "  \"avoid this warning.\", FutureWarning)\n",
      "c:\\users\\nstow\\appdata\\local\\programs\\python\\python37\\lib\\site-packages\\sklearn\\svm\\base.py:196: FutureWarning: The default value of gamma will change from 'auto' to 'scale' in version 0.22 to account better for unscaled features. Set gamma explicitly to 'auto' or 'scale' to avoid this warning.\n",
      "  \"avoid this warning.\", FutureWarning)\n"
     ]
    },
    {
     "data": {
      "text/plain": [
       "array([0.01533726, 0.00649522, 0.02055309, 0.006601  , 0.00874232])"
      ]
     },
     "execution_count": 19,
     "metadata": {},
     "output_type": "execute_result"
    }
   ],
   "source": [
    "cross_val_score(svr, X, y, cv=5)"
   ]
  },
  {
   "cell_type": "markdown",
   "metadata": {},
   "source": [
    "### The R-Squared value is not good for this model and neither are the cross-validation scores. This is a poor model, possibly because we removed too many features."
   ]
  },
  {
   "cell_type": "code",
   "execution_count": null,
   "metadata": {},
   "outputs": [],
   "source": []
  }
 ],
 "metadata": {
  "kernelspec": {
   "display_name": "Python 3",
   "language": "python",
   "name": "python3"
  },
  "language_info": {
   "codemirror_mode": {
    "name": "ipython",
    "version": 3
   },
   "file_extension": ".py",
   "mimetype": "text/x-python",
   "name": "python",
   "nbconvert_exporter": "python",
   "pygments_lexer": "ipython3",
   "version": "3.7.2"
  }
 },
 "nbformat": 4,
 "nbformat_minor": 2
}
