{
 "cells": [
  {
   "cell_type": "code",
   "execution_count": 1,
   "metadata": {},
   "outputs": [],
   "source": [
    "import pandas as pd\n",
    "import numpy as np\n",
    "import scipy\n",
    "import matplotlib.pyplot as plt\n",
    "from sklearn import neighbors\n",
    "from scipy import stats\n",
    "%matplotlib inline\n",
    "\n",
    "music = pd.DataFrame()\n",
    "music['duration'] = [184, 134, 243, 186, 122, 197, 294, 382, 102, 264, \n",
    "                     205, 110, 307, 110, 397, 153, 190, 192, 210, 403,\n",
    "                     164, 198, 204, 253, 234, 190, 182, 401, 376, 102]\n",
    "music['loudness'] = [18, 34, 43, 36, 22, 9, 29, 22, 10, 24, \n",
    "                     20, 10, 17, 51, 7, 13, 19, 12, 21, 22,\n",
    "                     16, 18, 4, 23, 34, 19, 14, 11, 37, 42]\n",
    "music['bpm'] = [ 105, 90, 78, 75, 120, 110, 80, 100, 105, 60,\n",
    "                  70, 105, 95, 70, 90, 105, 70, 75, 102, 100,\n",
    "                  100, 95, 90, 80, 90, 80, 100, 105, 70, 65]"
   ]
  },
  {
   "cell_type": "markdown",
   "metadata": {},
   "source": [
    "## Model 1"
   ]
  },
  {
   "cell_type": "code",
   "execution_count": 2,
   "metadata": {},
   "outputs": [
    {
     "data": {
      "text/plain": [
       "KNeighborsRegressor(algorithm='auto', leaf_size=30, metric='minkowski',\n",
       "          metric_params=None, n_jobs=None, n_neighbors=10, p=2,\n",
       "          weights='uniform')"
      ]
     },
     "execution_count": 2,
     "metadata": {},
     "output_type": "execute_result"
    }
   ],
   "source": [
    "# Build our model.\n",
    "knn = neighbors.KNeighborsRegressor(n_neighbors=10)\n",
    "X = pd.DataFrame(music.loudness)\n",
    "Y = music.bpm\n",
    "knn.fit(X, Y)"
   ]
  },
  {
   "cell_type": "markdown",
   "metadata": {},
   "source": [
    "## Model 2"
   ]
  },
  {
   "cell_type": "code",
   "execution_count": 3,
   "metadata": {},
   "outputs": [
    {
     "data": {
      "text/plain": [
       "KNeighborsRegressor(algorithm='auto', leaf_size=30, metric='minkowski',\n",
       "          metric_params=None, n_jobs=None, n_neighbors=10, p=2,\n",
       "          weights='distance')"
      ]
     },
     "execution_count": 3,
     "metadata": {},
     "output_type": "execute_result"
    }
   ],
   "source": [
    "# Same as Model 1 but this time with weights.\n",
    "knn_w = neighbors.KNeighborsRegressor(n_neighbors=10, weights='distance')\n",
    "X1 = pd.DataFrame(music.loudness)\n",
    "Y1 = music.bpm\n",
    "knn_w.fit(X1, Y1)"
   ]
  },
  {
   "cell_type": "markdown",
   "metadata": {},
   "source": [
    "## Model 3"
   ]
  },
  {
   "cell_type": "code",
   "execution_count": 4,
   "metadata": {},
   "outputs": [
    {
     "data": {
      "text/plain": [
       "KNeighborsRegressor(algorithm='auto', leaf_size=30, metric='minkowski',\n",
       "          metric_params=None, n_jobs=None, n_neighbors=10, p=2,\n",
       "          weights='distance')"
      ]
     },
     "execution_count": 4,
     "metadata": {},
     "output_type": "execute_result"
    }
   ],
   "source": [
    "# Same as Model 2 but with duration included\n",
    "knn_d = neighbors.KNeighborsRegressor(n_neighbors=10, weights='distance')\n",
    "X2 = music[['loudness', 'duration']]\n",
    "Y2 = music.bpm\n",
    "knn_d.fit(X2, Y2)"
   ]
  },
  {
   "cell_type": "markdown",
   "metadata": {},
   "source": [
    "## Model 4"
   ]
  },
  {
   "cell_type": "code",
   "execution_count": 5,
   "metadata": {},
   "outputs": [
    {
     "data": {
      "text/plain": [
       "KNeighborsRegressor(algorithm='auto', leaf_size=30, metric='minkowski',\n",
       "          metric_params=None, n_jobs=None, n_neighbors=10, p=2,\n",
       "          weights='distance')"
      ]
     },
     "execution_count": 5,
     "metadata": {},
     "output_type": "execute_result"
    }
   ],
   "source": [
    "# Same as Model 1 but with imput based on z-scores\n",
    "knn_z = neighbors.KNeighborsRegressor(n_neighbors=10, weights='distance')\n",
    "X3 = pd.DataFrame({\n",
    "    'loudness': stats.zscore(music.loudness)\n",
    "})\n",
    "Y3 = music.bpm\n",
    "knn_z.fit(X3, Y3)"
   ]
  },
  {
   "cell_type": "markdown",
   "metadata": {},
   "source": [
    "## Model 5"
   ]
  },
  {
   "cell_type": "code",
   "execution_count": 6,
   "metadata": {},
   "outputs": [
    {
     "data": {
      "text/plain": [
       "KNeighborsRegressor(algorithm='auto', leaf_size=30, metric='minkowski',\n",
       "          metric_params=None, n_jobs=None, n_neighbors=10, p=2,\n",
       "          weights='distance')"
      ]
     },
     "execution_count": 6,
     "metadata": {},
     "output_type": "execute_result"
    }
   ],
   "source": [
    "# Same as Model 3 but with imput based on z-scores\n",
    "knn_z2 = neighbors.KNeighborsRegressor(n_neighbors=10, weights='distance')\n",
    "X4 = pd.DataFrame({\n",
    "    'loudness': stats.zscore(music.loudness),\n",
    "    'duration': stats.zscore(music.duration)\n",
    "})\n",
    "Y4 = music.bpm\n",
    "knn_z2.fit(X4, Y4)"
   ]
  },
  {
   "cell_type": "markdown",
   "metadata": {},
   "source": [
    "## Model 6"
   ]
  },
  {
   "cell_type": "code",
   "execution_count": 8,
   "metadata": {},
   "outputs": [
    {
     "data": {
      "text/plain": [
       "KNeighborsRegressor(algorithm='auto', leaf_size=30, metric='minkowski',\n",
       "          metric_params=None, n_jobs=None, n_neighbors=10, p=2,\n",
       "          weights='distance')"
      ]
     },
     "execution_count": 8,
     "metadata": {},
     "output_type": "execute_result"
    }
   ],
   "source": [
    "# Same as Model 3 but with k = 5\n",
    "knn_d5 = neighbors.KNeighborsRegressor(n_neighbors=5, weights='distance')\n",
    "X5 = music[['loudness', 'duration']]\n",
    "Y5 = music.bpm\n",
    "knn_d.fit(X5, Y5)"
   ]
  },
  {
   "cell_type": "markdown",
   "metadata": {},
   "source": [
    "## Model 7"
   ]
  },
  {
   "cell_type": "code",
   "execution_count": 17,
   "metadata": {},
   "outputs": [
    {
     "data": {
      "text/plain": [
       "KNeighborsRegressor(algorithm='auto', leaf_size=30, metric='minkowski',\n",
       "          metric_params=None, n_jobs=None, n_neighbors=10, p=2,\n",
       "          weights='distance')"
      ]
     },
     "execution_count": 17,
     "metadata": {},
     "output_type": "execute_result"
    }
   ],
   "source": [
    "# Same as Model 3 but with k = 4\n",
    "knn_d4 = neighbors.KNeighborsRegressor(n_neighbors=4, weights='distance')\n",
    "X6 = music[['loudness', 'duration']]\n",
    "Y6 = music.bpm\n",
    "knn_d.fit(X6, Y6)"
   ]
  },
  {
   "cell_type": "markdown",
   "metadata": {},
   "source": [
    "## Model 8"
   ]
  },
  {
   "cell_type": "code",
   "execution_count": 18,
   "metadata": {},
   "outputs": [
    {
     "data": {
      "text/plain": [
       "KNeighborsRegressor(algorithm='auto', leaf_size=30, metric='minkowski',\n",
       "          metric_params=None, n_jobs=None, n_neighbors=3, p=2,\n",
       "          weights='distance')"
      ]
     },
     "execution_count": 18,
     "metadata": {},
     "output_type": "execute_result"
    }
   ],
   "source": [
    "# Same as Model 3 but with k = 3\n",
    "knn_d3 = neighbors.KNeighborsRegressor(n_neighbors=3, weights='distance')\n",
    "X7 = music[['loudness', 'duration']]\n",
    "Y7 = music.bpm\n",
    "knn_d3.fit(X7, Y7)"
   ]
  },
  {
   "cell_type": "markdown",
   "metadata": {},
   "source": [
    "## Model 9"
   ]
  },
  {
   "cell_type": "code",
   "execution_count": 20,
   "metadata": {},
   "outputs": [
    {
     "data": {
      "text/plain": [
       "KNeighborsRegressor(algorithm='auto', leaf_size=30, metric='minkowski',\n",
       "          metric_params=None, n_jobs=None, n_neighbors=1, p=2,\n",
       "          weights='distance')"
      ]
     },
     "execution_count": 20,
     "metadata": {},
     "output_type": "execute_result"
    }
   ],
   "source": [
    "# Same as Model 3 but with k = 1\n",
    "knn_d1 = neighbors.KNeighborsRegressor(n_neighbors=1, weights='distance')\n",
    "X8 = music[['loudness', 'duration']]\n",
    "Y8 = music.bpm\n",
    "knn_d1.fit(X8, Y8)"
   ]
  },
  {
   "cell_type": "code",
   "execution_count": 21,
   "metadata": {},
   "outputs": [
    {
     "name": "stdout",
     "output_type": "stream",
     "text": [
      "Model 1 Accuracy: -0.18 (+/- 0.66)\n",
      "Model 2 Accuracy: 0.11 (+/- 0.94)\n",
      "Model 3 Accuracy: -0.26 (+/- 0.74)\n",
      "Model 4 Accuracy: 0.12 (+/- 0.91)\n",
      "Model 5 Accuracy: -0.11 (+/- 1.05)\n",
      "Model 6 Accuracy: -0.51 (+/- 1.24)\n",
      "Model 7 Accuracy: -0.63 (+/- 1.64)\n",
      "Model 8 Accuracy: -0.59 (+/- 1.75)\n",
      "Model 9 Accuracy: -1.54 (+/- 4.67)\n"
     ]
    }
   ],
   "source": [
    "from sklearn.model_selection import cross_val_score\n",
    "score = cross_val_score(knn, X, Y, cv=5)\n",
    "print(\"Model 1 Accuracy: %0.2f (+/- %0.2f)\" % (score.mean(), score.std() * 2))\n",
    "score_w = cross_val_score(knn_w, X1, Y1, cv=5)\n",
    "print(\"Model 2 Accuracy: %0.2f (+/- %0.2f)\" % (score_w.mean(), score_w.std() * 2))\n",
    "score_d = cross_val_score(knn_d, X2, Y2, cv=5)\n",
    "print(\"Model 3 Accuracy: %0.2f (+/- %0.2f)\" % (score_d.mean(), score_d.std() * 2))\n",
    "score_z = cross_val_score(knn_z, X3, Y3, cv=5)\n",
    "print(\"Model 4 Accuracy: %0.2f (+/- %0.2f)\" % (score_z.mean(), score_z.std() * 2))\n",
    "score_z2 = cross_val_score(knn_z2, X4, Y4, cv=5)\n",
    "print(\"Model 5 Accuracy: %0.2f (+/- %0.2f)\" % (score_z2.mean(), score_z2.std() * 2))\n",
    "score_d5 = cross_val_score(knn_d5, X5, Y5, cv=5)\n",
    "print(\"Model 6 Accuracy: %0.2f (+/- %0.2f)\" % (score_d5.mean(), score_d5.std() * 2))\n",
    "score_d4 = cross_val_score(knn_d4, X6, Y6, cv=5)\n",
    "print(\"Model 7 Accuracy: %0.2f (+/- %0.2f)\" % (score_d4.mean(), score_d4.std() * 2))\n",
    "score_d3 = cross_val_score(knn_d3, X7, Y7, cv=5)\n",
    "print(\"Model 8 Accuracy: %0.2f (+/- %0.2f)\" % (score_d3.mean(), score_d3.std() * 2))\n",
    "score_d1 = cross_val_score(knn_d1, X8, Y8, cv=5)\n",
    "print(\"Model 9 Accuracy: %0.2f (+/- %0.2f)\" % (score_d1.mean(), score_d1.std() * 2))"
   ]
  },
  {
   "cell_type": "code",
   "execution_count": null,
   "metadata": {},
   "outputs": [],
   "source": []
  }
 ],
 "metadata": {
  "kernelspec": {
   "display_name": "Python 3",
   "language": "python",
   "name": "python3"
  },
  "language_info": {
   "codemirror_mode": {
    "name": "ipython",
    "version": 3
   },
   "file_extension": ".py",
   "mimetype": "text/x-python",
   "name": "python",
   "nbconvert_exporter": "python",
   "pygments_lexer": "ipython3",
   "version": "3.7.2"
  }
 },
 "nbformat": 4,
 "nbformat_minor": 2
}
