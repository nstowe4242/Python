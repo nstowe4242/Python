{
 "cells": [
  {
   "cell_type": "code",
   "execution_count": 109,
   "metadata": {},
   "outputs": [],
   "source": [
    "import math\n",
    "import warnings\n",
    "\n",
    "from IPython.display import display\n",
    "from matplotlib import pyplot as plt\n",
    "import numpy as np\n",
    "import pandas as pd\n",
    "import seaborn as sns\n",
    "import statsmodels.formula.api as smf\n",
    "from statsmodels.sandbox.regression.predstd import wls_prediction_std\n",
    "from statsmodels.iolib.table import (SimpleTable, default_txt_fmt)"
   ]
  },
  {
   "cell_type": "code",
   "execution_count": 91,
   "metadata": {},
   "outputs": [],
   "source": [
    "df = pd.read_csv(r\"C:\\Users\\nstow\\Desktop\\Python\\Table_8_Offenses_Known_to_Law_Enforcement_by_New_York_by_City_2014.csv\")"
   ]
  },
  {
   "cell_type": "code",
   "execution_count": 92,
   "metadata": {},
   "outputs": [],
   "source": [
    "## remove unusable rows\n",
    "\n",
    "df = df.iloc[4:]\n",
    "df = df.iloc[:, :-1]\n",
    "df = df[:-3]\n",
    "df.columns = ['city', 'population', 'violentCrime', 'murder', 'revisedRape', 'legacyRape', 'robbery', 'assault',\\\n",
    "              'propertyCrime', 'burglary', 'theft', 'motorVehicleTheft', 'arson']"
   ]
  },
  {
   "cell_type": "code",
   "execution_count": 93,
   "metadata": {},
   "outputs": [
    {
     "name": "stdout",
     "output_type": "stream",
     "text": [
      "<class 'pandas.core.frame.DataFrame'>\n",
      "RangeIndex: 373 entries, 4 to 376\n",
      "Data columns (total 13 columns):\n",
      "city                 373 non-null object\n",
      "population           369 non-null object\n",
      "violentCrime         369 non-null object\n",
      "murder               369 non-null object\n",
      "revisedRape          227 non-null object\n",
      "legacyRape           142 non-null object\n",
      "robbery              369 non-null object\n",
      "assault              369 non-null object\n",
      "propertyCrime        368 non-null object\n",
      "burglary             369 non-null object\n",
      "theft                368 non-null object\n",
      "motorVehicleTheft    369 non-null object\n",
      "arson                365 non-null object\n",
      "dtypes: object(13)\n",
      "memory usage: 19.0+ KB\n"
     ]
    }
   ],
   "source": [
    "## check for null values and data types\n",
    "df.info()"
   ]
  },
  {
   "cell_type": "code",
   "execution_count": 94,
   "metadata": {},
   "outputs": [],
   "source": [
    "## remove commas so object values can be converted to numeric values\n",
    "df['population'] = df['population'].str.replace(',', '')\n",
    "df['violentCrime'] = df['violentCrime'].str.replace(',', '')\n",
    "df['murder'] = df['murder'].str.replace(',', '')\n",
    "df['revisedRape'] = df['revisedRape'].str.replace(',','')\n",
    "df['legacyRape'] = df['legacyRape'].str.replace(',', '')\n",
    "df['robbery'] = df['robbery'].str.replace(',', '')\n",
    "df['assault'] = df['assault'].str.replace(',', '')\n",
    "df['propertyCrime'] = df['propertyCrime'].str.replace(',', '')\n",
    "df['burglary'] = df['burglary'].str.replace(',', '')\n",
    "df['theft'] = df['theft'].str.replace(',', '')\n",
    "df['motorVehicleTheft'] = df['motorVehicleTheft'].str.replace(',', '')\n",
    "df['arson'] = df['arson'].str.replace(',', '')"
   ]
  },
  {
   "cell_type": "code",
   "execution_count": 95,
   "metadata": {},
   "outputs": [],
   "source": [
    "## covert to numeric values\n",
    "df['population'] = pd.to_numeric(df['population'])\n",
    "df['violentCrime'] = pd.to_numeric(df['violentCrime'])\n",
    "df['murder'] = pd.to_numeric(df['murder'])\n",
    "df['revisedRape'] = pd.to_numeric(df['revisedRape'])\n",
    "df['legacyRape'] = pd.to_numeric(df['legacyRape'])\n",
    "df['robbery'] = pd.to_numeric(df['robbery'])\n",
    "df['assault'] = pd.to_numeric(df['assault'])\n",
    "df['propertyCrime'] = pd.to_numeric(df['propertyCrime'])\n",
    "df['burglary'] = pd.to_numeric(df['burglary'])\n",
    "df['theft'] = pd.to_numeric(df['theft'])\n",
    "df['motorVehicleTheft'] = pd.to_numeric(df['motorVehicleTheft'])\n",
    "df['arson'] = pd.to_numeric(df['arson'])"
   ]
  },
  {
   "cell_type": "code",
   "execution_count": 96,
   "metadata": {},
   "outputs": [],
   "source": [
    "## Fill empty values with 0\n",
    "df = df.fillna(0)"
   ]
  },
  {
   "cell_type": "code",
   "execution_count": 97,
   "metadata": {},
   "outputs": [
    {
     "name": "stdout",
     "output_type": "stream",
     "text": [
      "<class 'pandas.core.frame.DataFrame'>\n",
      "RangeIndex: 373 entries, 4 to 376\n",
      "Data columns (total 13 columns):\n",
      "city                 373 non-null object\n",
      "population           373 non-null float64\n",
      "violentCrime         373 non-null float64\n",
      "murder               373 non-null float64\n",
      "revisedRape          373 non-null float64\n",
      "legacyRape           373 non-null float64\n",
      "robbery              373 non-null float64\n",
      "assault              373 non-null float64\n",
      "propertyCrime        373 non-null float64\n",
      "burglary             373 non-null float64\n",
      "theft                373 non-null float64\n",
      "motorVehicleTheft    373 non-null float64\n",
      "arson                373 non-null float64\n",
      "dtypes: float64(12), object(1)\n",
      "memory usage: 36.5+ KB\n"
     ]
    }
   ],
   "source": [
    "## Check data for accuracy of corrections\n",
    "df.info()"
   ]
  },
  {
   "cell_type": "markdown",
   "metadata": {},
   "source": [
    "### Original Linear Regression Equation\n",
    "### property crime  = burglary + theft  + √arson"
   ]
  },
  {
   "cell_type": "code",
   "execution_count": 98,
   "metadata": {},
   "outputs": [],
   "source": [
    "## create column for square root of arson data\n",
    "df['arsonSqrt'] = np.sqrt(df['arson'])"
   ]
  },
  {
   "cell_type": "code",
   "execution_count": 117,
   "metadata": {},
   "outputs": [
    {
     "name": "stdout",
     "output_type": "stream",
     "text": [
      "f-value: 23053266.2203423\n",
      "p-value Intercept   0.00000030271631432771\n",
      "burglary    0.00000000000000000000\n",
      "theft       0.00000000000000000000\n",
      "arsonSqrt   0.00000000000000003466\n",
      "dtype: float64\n",
      "R-squared 0.9999946645589147\n"
     ]
    }
   ],
   "source": [
    "## examine the f-value, p-values and R-squared value for our existing model\n",
    "linear_formula = 'propertyCrime ~ burglary + theft + arsonSqrt'\n",
    "\n",
    "lm = smf.ols(formula=linear_formula, data=df).fit()\n",
    "\n",
    "pd.set_option('display.float_format', lambda x: '%.20f' % x)\n",
    "\n",
    "print('f-value:',lm.fvalue)\n",
    "print('p-value', lm.pvalues)\n",
    "print('R-squared', lm.rsquared)"
   ]
  },
  {
   "cell_type": "markdown",
   "metadata": {},
   "source": [
    "### The f-value is very large which means that the likelihood that the variation we see is due to chance is very low.\n",
    "### The p-values are all very low which again means that the likelihood that the variation that we see is due to chance is very low.\n",
    "### The R-squared value is very high which means that the linear relationship between the features and property crime is very positive.\n",
    "### These values are very close to perfect for our model but we will see if we can modify the model to get even better results"
   ]
  },
  {
   "cell_type": "markdown",
   "metadata": {},
   "source": [
    "### Since burglary and theft were very highly correlated we will test the model with each alone with arson and compare them to our current equation"
   ]
  },
  {
   "cell_type": "code",
   "execution_count": 99,
   "metadata": {},
   "outputs": [],
   "source": [
    "## preform linear regression with statsmodel\n",
    "linear_formula = 'propertyCrime ~ burglary + theft + arsonSqrt'\n",
    "linear_formula1 = 'propertyCrime ~  theft + arsonSqrt'\n",
    "linear_formula2 = 'propertyCrime ~ burglary + arsonSqrt'\n",
    "\n",
    "lm = smf.ols(formula=linear_formula, data=df).fit()\n",
    "lm1 = smf.ols(formula=linear_formula1, data=df).fit()\n",
    "lm2= smf.ols(formula=linear_formula2, data=df).fit()"
   ]
  },
  {
   "cell_type": "code",
   "execution_count": 104,
   "metadata": {},
   "outputs": [
    {
     "name": "stdout",
     "output_type": "stream",
     "text": [
      "Original Iteration\n",
      "Intercept   -4.89515013371825347122\n",
      "burglary     1.21678109303880499503\n",
      "theft        1.03806405552592395658\n",
      "arsonSqrt   -8.08136864962215817343\n",
      "dtype: float64\n",
      "Theft and Arson Iteration\n",
      "Intercept   -17.15438788733781905194\n",
      "theft         1.21271410882095209693\n",
      "arsonSqrt    67.22776911510045749765\n",
      "dtype: float64\n",
      "Burglary and Arson Iteration 3\n",
      "Intercept     75.07405982102780228615\n",
      "burglary       8.31244867830954348165\n",
      "arsonSqrt   -442.33100152263830295851\n",
      "dtype: float64\n"
     ]
    }
   ],
   "source": [
    "## Check the coefficients\n",
    "print('Original Iteration')\n",
    "print(lm.params)\n",
    "print('Theft and Arson Iteration')\n",
    "print(lm1.params)\n",
    "print('Burglary and Arson Iteration 3')\n",
    "print(lm2.params)"
   ]
  },
  {
   "cell_type": "code",
   "execution_count": 118,
   "metadata": {},
   "outputs": [
    {
     "name": "stdout",
     "output_type": "stream",
     "text": [
      "Original Iteration\n",
      "Intercept   0.00000030271631432771\n",
      "burglary    0.00000000000000000000\n",
      "theft       0.00000000000000000000\n",
      "arsonSqrt   0.00000000000000003466\n",
      "dtype: float64\n",
      "Theft and Arson Iteration\n",
      "Intercept   0.03520940288825370745\n",
      "theft       0.00000000000000000000\n",
      "arsonSqrt   0.00000000000000000003\n",
      "dtype: float64\n",
      "Burglary and Arson Iteration 3\n",
      "Intercept   0.11437566475232452401\n",
      "burglary    0.00000000000000000000\n",
      "arsonSqrt   0.00000000000000000000\n",
      "dtype: float64\n"
     ]
    }
   ],
   "source": [
    "## Check the p-values\n",
    "print('Original Iteration')\n",
    "print(lm.pvalues)\n",
    "print('Theft and Arson Iteration')\n",
    "print(lm1.pvalues)\n",
    "print('Burglary and Arson Iteration 3')\n",
    "print(lm2.pvalues)"
   ]
  },
  {
   "cell_type": "markdown",
   "metadata": {},
   "source": [
    "### The p-values for all of the features is good for our Original Iteration and for the Theft and Arson Iteration. The p-value for the intercept for the Burglary and Arson Iteration is higher than ideal (>0.05), so this would not be a good model. We will look at the R-squared values next to determine which of the remain two models is best."
   ]
  },
  {
   "cell_type": "code",
   "execution_count": 119,
   "metadata": {},
   "outputs": [
    {
     "name": "stdout",
     "output_type": "stream",
     "text": [
      "Original Iteration\n",
      "0.9999946645589147\n",
      "Theft and Arson Iteration\n",
      "0.9995971412773221\n"
     ]
    }
   ],
   "source": [
    "## Calculate the R-squared value\n",
    "print('Original Iteration')\n",
    "print(lm.rsquared)\n",
    "print('Theft and Arson Iteration')\n",
    "print(lm1.rsquared)"
   ]
  },
  {
   "cell_type": "markdown",
   "metadata": {},
   "source": [
    "### The Original Iteration has a very slightly higher R-squared value so we will use this for our Linear Regression model"
   ]
  },
  {
   "cell_type": "code",
   "execution_count": 61,
   "metadata": {},
   "outputs": [
    {
     "data": {
      "text/html": [
       "<div>\n",
       "<style scoped>\n",
       "    .dataframe tbody tr th:only-of-type {\n",
       "        vertical-align: middle;\n",
       "    }\n",
       "\n",
       "    .dataframe tbody tr th {\n",
       "        vertical-align: top;\n",
       "    }\n",
       "\n",
       "    .dataframe thead th {\n",
       "        text-align: right;\n",
       "    }\n",
       "</style>\n",
       "<table border=\"1\" class=\"dataframe\">\n",
       "  <thead>\n",
       "    <tr style=\"text-align: right;\">\n",
       "      <th></th>\n",
       "      <th>0</th>\n",
       "      <th>1</th>\n",
       "    </tr>\n",
       "  </thead>\n",
       "  <tbody>\n",
       "    <tr>\n",
       "      <th>Intercept</th>\n",
       "      <td>-6.740</td>\n",
       "      <td>-3.050</td>\n",
       "    </tr>\n",
       "    <tr>\n",
       "      <th>burglary</th>\n",
       "      <td>1.202</td>\n",
       "      <td>1.231</td>\n",
       "    </tr>\n",
       "    <tr>\n",
       "      <th>theft</th>\n",
       "      <td>1.036</td>\n",
       "      <td>1.040</td>\n",
       "    </tr>\n",
       "    <tr>\n",
       "      <th>arsonSqrt</th>\n",
       "      <td>-9.875</td>\n",
       "      <td>-6.288</td>\n",
       "    </tr>\n",
       "  </tbody>\n",
       "</table>\n",
       "</div>"
      ],
      "text/plain": [
       "               0      1\n",
       "Intercept -6.740 -3.050\n",
       "burglary   1.202  1.231\n",
       "theft      1.036  1.040\n",
       "arsonSqrt -9.875 -6.288"
      ]
     },
     "execution_count": 61,
     "metadata": {},
     "output_type": "execute_result"
    }
   ],
   "source": [
    "## Calculate the confidence intervals to examine the range of the variables\n",
    "pd.set_option('display.float_format', lambda x: '%.3f' % x)\n",
    "lm.conf_int()"
   ]
  },
  {
   "cell_type": "code",
   "execution_count": 64,
   "metadata": {},
   "outputs": [
    {
     "data": {
      "image/png": "[encoded data removed]",
      "text/plain": [
       "<Figure size 432x288 with 1 Axes>"
      ]
     },
     "metadata": {
      "needs_background": "light"
     },
     "output_type": "display_data"
    }
   ],
   "source": [
    "# Use wls_prediction_std to build confidence intervals\n",
    "prstd, iv_l, iv_u = wls_prediction_std(lm)\n",
    "\n",
    "plt.figure()\n",
    "plt.plot(iv_u[0:15], 'o', color='r')\n",
    "plt.plot(iv_l[0:15], 'o', color='r')\n",
    "plt.plot(lm.fittedvalues[0:15], 'o', color='b')\n",
    "plt.title('blue: predicted, red: 95% CI')\n",
    "plt.show()"
   ]
  },
  {
   "cell_type": "markdown",
   "metadata": {},
   "source": [
    "### The R-squared value and the p-values for this model are very good, so there is no need to change this model"
   ]
  },
  {
   "cell_type": "code",
   "execution_count": null,
   "metadata": {},
   "outputs": [],
   "source": []
  }
 ],
 "metadata": {
  "kernelspec": {
   "display_name": "Python 3",
   "language": "python",
   "name": "python3"
  },
  "language_info": {
   "codemirror_mode": {
    "name": "ipython",
    "version": 3
   },
   "file_extension": ".py",
   "mimetype": "text/x-python",
   "name": "python",
   "nbconvert_exporter": "python",
   "pygments_lexer": "ipython3",
   "version": "3.7.1"
  }
 },
 "nbformat": 4,
 "nbformat_minor": 2
}
